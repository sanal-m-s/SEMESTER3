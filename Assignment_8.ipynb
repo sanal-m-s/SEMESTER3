{
  "nbformat": 4,
  "nbformat_minor": 0,
  "metadata": {
    "colab": {
      "provenance": [],
      "authorship_tag": "ABX9TyN0OuRzLIAfNVFT7yuALiw6",
      "include_colab_link": true
    },
    "kernelspec": {
      "name": "python3",
      "display_name": "Python 3"
    },
    "language_info": {
      "name": "python"
    },
    "widgets": {
      "application/vnd.jupyter.widget-state+json": {
        "bc852bc46b2f45b3b2d92bf2fbbb05c0": {
          "model_module": "@jupyter-widgets/controls",
          "model_name": "HBoxModel",
          "model_module_version": "1.5.0",
          "state": {
            "_dom_classes": [],
            "_model_module": "@jupyter-widgets/controls",
            "_model_module_version": "1.5.0",
            "_model_name": "HBoxModel",
            "_view_count": null,
            "_view_module": "@jupyter-widgets/controls",
            "_view_module_version": "1.5.0",
            "_view_name": "HBoxView",
            "box_style": "",
            "children": [
              "IPY_MODEL_2793eed40e2e4022af2b7a319c3b3d0f",
              "IPY_MODEL_752a4d73d99b4ef59554082697a8dd30",
              "IPY_MODEL_c41940713a554d67a7175152ab2c192f"
            ],
            "layout": "IPY_MODEL_358b016355f34204b07e8895e679ff4d"
          }
        },
        "2793eed40e2e4022af2b7a319c3b3d0f": {
          "model_module": "@jupyter-widgets/controls",
          "model_name": "HTMLModel",
          "model_module_version": "1.5.0",
          "state": {
            "_dom_classes": [],
            "_model_module": "@jupyter-widgets/controls",
            "_model_module_version": "1.5.0",
            "_model_name": "HTMLModel",
            "_view_count": null,
            "_view_module": "@jupyter-widgets/controls",
            "_view_module_version": "1.5.0",
            "_view_name": "HTMLView",
            "description": "",
            "description_tooltip": null,
            "layout": "IPY_MODEL_e7326a8c17924c0a951d0c82b3b3037e",
            "placeholder": "​",
            "style": "IPY_MODEL_7ffaefbb552e43fe89cdf8b31fe3368a",
            "value": "config.json: 100%"
          }
        },
        "752a4d73d99b4ef59554082697a8dd30": {
          "model_module": "@jupyter-widgets/controls",
          "model_name": "FloatProgressModel",
          "model_module_version": "1.5.0",
          "state": {
            "_dom_classes": [],
            "_model_module": "@jupyter-widgets/controls",
            "_model_module_version": "1.5.0",
            "_model_name": "FloatProgressModel",
            "_view_count": null,
            "_view_module": "@jupyter-widgets/controls",
            "_view_module_version": "1.5.0",
            "_view_name": "ProgressView",
            "bar_style": "success",
            "description": "",
            "description_tooltip": null,
            "layout": "IPY_MODEL_754159e008e74a82942598ae8f28f8fe",
            "max": 629,
            "min": 0,
            "orientation": "horizontal",
            "style": "IPY_MODEL_85120561b1e240149229e887e4cef4eb",
            "value": 629
          }
        },
        "c41940713a554d67a7175152ab2c192f": {
          "model_module": "@jupyter-widgets/controls",
          "model_name": "HTMLModel",
          "model_module_version": "1.5.0",
          "state": {
            "_dom_classes": [],
            "_model_module": "@jupyter-widgets/controls",
            "_model_module_version": "1.5.0",
            "_model_name": "HTMLModel",
            "_view_count": null,
            "_view_module": "@jupyter-widgets/controls",
            "_view_module_version": "1.5.0",
            "_view_name": "HTMLView",
            "description": "",
            "description_tooltip": null,
            "layout": "IPY_MODEL_36d6f29bed0a4dffbabb1706ffc70de4",
            "placeholder": "​",
            "style": "IPY_MODEL_891f58cbdee24aaa8c01dbd3904156fb",
            "value": " 629/629 [00:00&lt;00:00, 20.7kB/s]"
          }
        },
        "358b016355f34204b07e8895e679ff4d": {
          "model_module": "@jupyter-widgets/base",
          "model_name": "LayoutModel",
          "model_module_version": "1.2.0",
          "state": {
            "_model_module": "@jupyter-widgets/base",
            "_model_module_version": "1.2.0",
            "_model_name": "LayoutModel",
            "_view_count": null,
            "_view_module": "@jupyter-widgets/base",
            "_view_module_version": "1.2.0",
            "_view_name": "LayoutView",
            "align_content": null,
            "align_items": null,
            "align_self": null,
            "border": null,
            "bottom": null,
            "display": null,
            "flex": null,
            "flex_flow": null,
            "grid_area": null,
            "grid_auto_columns": null,
            "grid_auto_flow": null,
            "grid_auto_rows": null,
            "grid_column": null,
            "grid_gap": null,
            "grid_row": null,
            "grid_template_areas": null,
            "grid_template_columns": null,
            "grid_template_rows": null,
            "height": null,
            "justify_content": null,
            "justify_items": null,
            "left": null,
            "margin": null,
            "max_height": null,
            "max_width": null,
            "min_height": null,
            "min_width": null,
            "object_fit": null,
            "object_position": null,
            "order": null,
            "overflow": null,
            "overflow_x": null,
            "overflow_y": null,
            "padding": null,
            "right": null,
            "top": null,
            "visibility": null,
            "width": null
          }
        },
        "e7326a8c17924c0a951d0c82b3b3037e": {
          "model_module": "@jupyter-widgets/base",
          "model_name": "LayoutModel",
          "model_module_version": "1.2.0",
          "state": {
            "_model_module": "@jupyter-widgets/base",
            "_model_module_version": "1.2.0",
            "_model_name": "LayoutModel",
            "_view_count": null,
            "_view_module": "@jupyter-widgets/base",
            "_view_module_version": "1.2.0",
            "_view_name": "LayoutView",
            "align_content": null,
            "align_items": null,
            "align_self": null,
            "border": null,
            "bottom": null,
            "display": null,
            "flex": null,
            "flex_flow": null,
            "grid_area": null,
            "grid_auto_columns": null,
            "grid_auto_flow": null,
            "grid_auto_rows": null,
            "grid_column": null,
            "grid_gap": null,
            "grid_row": null,
            "grid_template_areas": null,
            "grid_template_columns": null,
            "grid_template_rows": null,
            "height": null,
            "justify_content": null,
            "justify_items": null,
            "left": null,
            "margin": null,
            "max_height": null,
            "max_width": null,
            "min_height": null,
            "min_width": null,
            "object_fit": null,
            "object_position": null,
            "order": null,
            "overflow": null,
            "overflow_x": null,
            "overflow_y": null,
            "padding": null,
            "right": null,
            "top": null,
            "visibility": null,
            "width": null
          }
        },
        "7ffaefbb552e43fe89cdf8b31fe3368a": {
          "model_module": "@jupyter-widgets/controls",
          "model_name": "DescriptionStyleModel",
          "model_module_version": "1.5.0",
          "state": {
            "_model_module": "@jupyter-widgets/controls",
            "_model_module_version": "1.5.0",
            "_model_name": "DescriptionStyleModel",
            "_view_count": null,
            "_view_module": "@jupyter-widgets/base",
            "_view_module_version": "1.2.0",
            "_view_name": "StyleView",
            "description_width": ""
          }
        },
        "754159e008e74a82942598ae8f28f8fe": {
          "model_module": "@jupyter-widgets/base",
          "model_name": "LayoutModel",
          "model_module_version": "1.2.0",
          "state": {
            "_model_module": "@jupyter-widgets/base",
            "_model_module_version": "1.2.0",
            "_model_name": "LayoutModel",
            "_view_count": null,
            "_view_module": "@jupyter-widgets/base",
            "_view_module_version": "1.2.0",
            "_view_name": "LayoutView",
            "align_content": null,
            "align_items": null,
            "align_self": null,
            "border": null,
            "bottom": null,
            "display": null,
            "flex": null,
            "flex_flow": null,
            "grid_area": null,
            "grid_auto_columns": null,
            "grid_auto_flow": null,
            "grid_auto_rows": null,
            "grid_column": null,
            "grid_gap": null,
            "grid_row": null,
            "grid_template_areas": null,
            "grid_template_columns": null,
            "grid_template_rows": null,
            "height": null,
            "justify_content": null,
            "justify_items": null,
            "left": null,
            "margin": null,
            "max_height": null,
            "max_width": null,
            "min_height": null,
            "min_width": null,
            "object_fit": null,
            "object_position": null,
            "order": null,
            "overflow": null,
            "overflow_x": null,
            "overflow_y": null,
            "padding": null,
            "right": null,
            "top": null,
            "visibility": null,
            "width": null
          }
        },
        "85120561b1e240149229e887e4cef4eb": {
          "model_module": "@jupyter-widgets/controls",
          "model_name": "ProgressStyleModel",
          "model_module_version": "1.5.0",
          "state": {
            "_model_module": "@jupyter-widgets/controls",
            "_model_module_version": "1.5.0",
            "_model_name": "ProgressStyleModel",
            "_view_count": null,
            "_view_module": "@jupyter-widgets/base",
            "_view_module_version": "1.2.0",
            "_view_name": "StyleView",
            "bar_color": null,
            "description_width": ""
          }
        },
        "36d6f29bed0a4dffbabb1706ffc70de4": {
          "model_module": "@jupyter-widgets/base",
          "model_name": "LayoutModel",
          "model_module_version": "1.2.0",
          "state": {
            "_model_module": "@jupyter-widgets/base",
            "_model_module_version": "1.2.0",
            "_model_name": "LayoutModel",
            "_view_count": null,
            "_view_module": "@jupyter-widgets/base",
            "_view_module_version": "1.2.0",
            "_view_name": "LayoutView",
            "align_content": null,
            "align_items": null,
            "align_self": null,
            "border": null,
            "bottom": null,
            "display": null,
            "flex": null,
            "flex_flow": null,
            "grid_area": null,
            "grid_auto_columns": null,
            "grid_auto_flow": null,
            "grid_auto_rows": null,
            "grid_column": null,
            "grid_gap": null,
            "grid_row": null,
            "grid_template_areas": null,
            "grid_template_columns": null,
            "grid_template_rows": null,
            "height": null,
            "justify_content": null,
            "justify_items": null,
            "left": null,
            "margin": null,
            "max_height": null,
            "max_width": null,
            "min_height": null,
            "min_width": null,
            "object_fit": null,
            "object_position": null,
            "order": null,
            "overflow": null,
            "overflow_x": null,
            "overflow_y": null,
            "padding": null,
            "right": null,
            "top": null,
            "visibility": null,
            "width": null
          }
        },
        "891f58cbdee24aaa8c01dbd3904156fb": {
          "model_module": "@jupyter-widgets/controls",
          "model_name": "DescriptionStyleModel",
          "model_module_version": "1.5.0",
          "state": {
            "_model_module": "@jupyter-widgets/controls",
            "_model_module_version": "1.5.0",
            "_model_name": "DescriptionStyleModel",
            "_view_count": null,
            "_view_module": "@jupyter-widgets/base",
            "_view_module_version": "1.2.0",
            "_view_name": "StyleView",
            "description_width": ""
          }
        },
        "87b0bee63aef4bd3a4f4d73706d29327": {
          "model_module": "@jupyter-widgets/controls",
          "model_name": "HBoxModel",
          "model_module_version": "1.5.0",
          "state": {
            "_dom_classes": [],
            "_model_module": "@jupyter-widgets/controls",
            "_model_module_version": "1.5.0",
            "_model_name": "HBoxModel",
            "_view_count": null,
            "_view_module": "@jupyter-widgets/controls",
            "_view_module_version": "1.5.0",
            "_view_name": "HBoxView",
            "box_style": "",
            "children": [
              "IPY_MODEL_a4e9ea5fdbed475f8fc92c22a7a2d133",
              "IPY_MODEL_67c83a1910d44342a3f5656ce7a7085c",
              "IPY_MODEL_3e7bbfa92eda4ea9bb8d861779c458de"
            ],
            "layout": "IPY_MODEL_0ad6fdbdd10740239d06c5198a3e2510"
          }
        },
        "a4e9ea5fdbed475f8fc92c22a7a2d133": {
          "model_module": "@jupyter-widgets/controls",
          "model_name": "HTMLModel",
          "model_module_version": "1.5.0",
          "state": {
            "_dom_classes": [],
            "_model_module": "@jupyter-widgets/controls",
            "_model_module_version": "1.5.0",
            "_model_name": "HTMLModel",
            "_view_count": null,
            "_view_module": "@jupyter-widgets/controls",
            "_view_module_version": "1.5.0",
            "_view_name": "HTMLView",
            "description": "",
            "description_tooltip": null,
            "layout": "IPY_MODEL_347835252b454286984179d68bd594f5",
            "placeholder": "​",
            "style": "IPY_MODEL_83cc22f09ca84917a0db44ff110f6bc7",
            "value": "model.safetensors: 100%"
          }
        },
        "67c83a1910d44342a3f5656ce7a7085c": {
          "model_module": "@jupyter-widgets/controls",
          "model_name": "FloatProgressModel",
          "model_module_version": "1.5.0",
          "state": {
            "_dom_classes": [],
            "_model_module": "@jupyter-widgets/controls",
            "_model_module_version": "1.5.0",
            "_model_name": "FloatProgressModel",
            "_view_count": null,
            "_view_module": "@jupyter-widgets/controls",
            "_view_module_version": "1.5.0",
            "_view_name": "ProgressView",
            "bar_style": "success",
            "description": "",
            "description_tooltip": null,
            "layout": "IPY_MODEL_f00cf99e8c7341558ce6a545955d1a4c",
            "max": 267832558,
            "min": 0,
            "orientation": "horizontal",
            "style": "IPY_MODEL_4f3ec57dfda94fedba55fa2730ab024f",
            "value": 267832558
          }
        },
        "3e7bbfa92eda4ea9bb8d861779c458de": {
          "model_module": "@jupyter-widgets/controls",
          "model_name": "HTMLModel",
          "model_module_version": "1.5.0",
          "state": {
            "_dom_classes": [],
            "_model_module": "@jupyter-widgets/controls",
            "_model_module_version": "1.5.0",
            "_model_name": "HTMLModel",
            "_view_count": null,
            "_view_module": "@jupyter-widgets/controls",
            "_view_module_version": "1.5.0",
            "_view_name": "HTMLView",
            "description": "",
            "description_tooltip": null,
            "layout": "IPY_MODEL_e817cc656024497f9f36f2b517f78440",
            "placeholder": "​",
            "style": "IPY_MODEL_0e8b0533ab784f8ab21718c35a5e18b4",
            "value": " 268M/268M [00:06&lt;00:00, 15.1MB/s]"
          }
        },
        "0ad6fdbdd10740239d06c5198a3e2510": {
          "model_module": "@jupyter-widgets/base",
          "model_name": "LayoutModel",
          "model_module_version": "1.2.0",
          "state": {
            "_model_module": "@jupyter-widgets/base",
            "_model_module_version": "1.2.0",
            "_model_name": "LayoutModel",
            "_view_count": null,
            "_view_module": "@jupyter-widgets/base",
            "_view_module_version": "1.2.0",
            "_view_name": "LayoutView",
            "align_content": null,
            "align_items": null,
            "align_self": null,
            "border": null,
            "bottom": null,
            "display": null,
            "flex": null,
            "flex_flow": null,
            "grid_area": null,
            "grid_auto_columns": null,
            "grid_auto_flow": null,
            "grid_auto_rows": null,
            "grid_column": null,
            "grid_gap": null,
            "grid_row": null,
            "grid_template_areas": null,
            "grid_template_columns": null,
            "grid_template_rows": null,
            "height": null,
            "justify_content": null,
            "justify_items": null,
            "left": null,
            "margin": null,
            "max_height": null,
            "max_width": null,
            "min_height": null,
            "min_width": null,
            "object_fit": null,
            "object_position": null,
            "order": null,
            "overflow": null,
            "overflow_x": null,
            "overflow_y": null,
            "padding": null,
            "right": null,
            "top": null,
            "visibility": null,
            "width": null
          }
        },
        "347835252b454286984179d68bd594f5": {
          "model_module": "@jupyter-widgets/base",
          "model_name": "LayoutModel",
          "model_module_version": "1.2.0",
          "state": {
            "_model_module": "@jupyter-widgets/base",
            "_model_module_version": "1.2.0",
            "_model_name": "LayoutModel",
            "_view_count": null,
            "_view_module": "@jupyter-widgets/base",
            "_view_module_version": "1.2.0",
            "_view_name": "LayoutView",
            "align_content": null,
            "align_items": null,
            "align_self": null,
            "border": null,
            "bottom": null,
            "display": null,
            "flex": null,
            "flex_flow": null,
            "grid_area": null,
            "grid_auto_columns": null,
            "grid_auto_flow": null,
            "grid_auto_rows": null,
            "grid_column": null,
            "grid_gap": null,
            "grid_row": null,
            "grid_template_areas": null,
            "grid_template_columns": null,
            "grid_template_rows": null,
            "height": null,
            "justify_content": null,
            "justify_items": null,
            "left": null,
            "margin": null,
            "max_height": null,
            "max_width": null,
            "min_height": null,
            "min_width": null,
            "object_fit": null,
            "object_position": null,
            "order": null,
            "overflow": null,
            "overflow_x": null,
            "overflow_y": null,
            "padding": null,
            "right": null,
            "top": null,
            "visibility": null,
            "width": null
          }
        },
        "83cc22f09ca84917a0db44ff110f6bc7": {
          "model_module": "@jupyter-widgets/controls",
          "model_name": "DescriptionStyleModel",
          "model_module_version": "1.5.0",
          "state": {
            "_model_module": "@jupyter-widgets/controls",
            "_model_module_version": "1.5.0",
            "_model_name": "DescriptionStyleModel",
            "_view_count": null,
            "_view_module": "@jupyter-widgets/base",
            "_view_module_version": "1.2.0",
            "_view_name": "StyleView",
            "description_width": ""
          }
        },
        "f00cf99e8c7341558ce6a545955d1a4c": {
          "model_module": "@jupyter-widgets/base",
          "model_name": "LayoutModel",
          "model_module_version": "1.2.0",
          "state": {
            "_model_module": "@jupyter-widgets/base",
            "_model_module_version": "1.2.0",
            "_model_name": "LayoutModel",
            "_view_count": null,
            "_view_module": "@jupyter-widgets/base",
            "_view_module_version": "1.2.0",
            "_view_name": "LayoutView",
            "align_content": null,
            "align_items": null,
            "align_self": null,
            "border": null,
            "bottom": null,
            "display": null,
            "flex": null,
            "flex_flow": null,
            "grid_area": null,
            "grid_auto_columns": null,
            "grid_auto_flow": null,
            "grid_auto_rows": null,
            "grid_column": null,
            "grid_gap": null,
            "grid_row": null,
            "grid_template_areas": null,
            "grid_template_columns": null,
            "grid_template_rows": null,
            "height": null,
            "justify_content": null,
            "justify_items": null,
            "left": null,
            "margin": null,
            "max_height": null,
            "max_width": null,
            "min_height": null,
            "min_width": null,
            "object_fit": null,
            "object_position": null,
            "order": null,
            "overflow": null,
            "overflow_x": null,
            "overflow_y": null,
            "padding": null,
            "right": null,
            "top": null,
            "visibility": null,
            "width": null
          }
        },
        "4f3ec57dfda94fedba55fa2730ab024f": {
          "model_module": "@jupyter-widgets/controls",
          "model_name": "ProgressStyleModel",
          "model_module_version": "1.5.0",
          "state": {
            "_model_module": "@jupyter-widgets/controls",
            "_model_module_version": "1.5.0",
            "_model_name": "ProgressStyleModel",
            "_view_count": null,
            "_view_module": "@jupyter-widgets/base",
            "_view_module_version": "1.2.0",
            "_view_name": "StyleView",
            "bar_color": null,
            "description_width": ""
          }
        },
        "e817cc656024497f9f36f2b517f78440": {
          "model_module": "@jupyter-widgets/base",
          "model_name": "LayoutModel",
          "model_module_version": "1.2.0",
          "state": {
            "_model_module": "@jupyter-widgets/base",
            "_model_module_version": "1.2.0",
            "_model_name": "LayoutModel",
            "_view_count": null,
            "_view_module": "@jupyter-widgets/base",
            "_view_module_version": "1.2.0",
            "_view_name": "LayoutView",
            "align_content": null,
            "align_items": null,
            "align_self": null,
            "border": null,
            "bottom": null,
            "display": null,
            "flex": null,
            "flex_flow": null,
            "grid_area": null,
            "grid_auto_columns": null,
            "grid_auto_flow": null,
            "grid_auto_rows": null,
            "grid_column": null,
            "grid_gap": null,
            "grid_row": null,
            "grid_template_areas": null,
            "grid_template_columns": null,
            "grid_template_rows": null,
            "height": null,
            "justify_content": null,
            "justify_items": null,
            "left": null,
            "margin": null,
            "max_height": null,
            "max_width": null,
            "min_height": null,
            "min_width": null,
            "object_fit": null,
            "object_position": null,
            "order": null,
            "overflow": null,
            "overflow_x": null,
            "overflow_y": null,
            "padding": null,
            "right": null,
            "top": null,
            "visibility": null,
            "width": null
          }
        },
        "0e8b0533ab784f8ab21718c35a5e18b4": {
          "model_module": "@jupyter-widgets/controls",
          "model_name": "DescriptionStyleModel",
          "model_module_version": "1.5.0",
          "state": {
            "_model_module": "@jupyter-widgets/controls",
            "_model_module_version": "1.5.0",
            "_model_name": "DescriptionStyleModel",
            "_view_count": null,
            "_view_module": "@jupyter-widgets/base",
            "_view_module_version": "1.2.0",
            "_view_name": "StyleView",
            "description_width": ""
          }
        },
        "a41212423ef14bee9674bf4ba6d0b8a3": {
          "model_module": "@jupyter-widgets/controls",
          "model_name": "HBoxModel",
          "model_module_version": "1.5.0",
          "state": {
            "_dom_classes": [],
            "_model_module": "@jupyter-widgets/controls",
            "_model_module_version": "1.5.0",
            "_model_name": "HBoxModel",
            "_view_count": null,
            "_view_module": "@jupyter-widgets/controls",
            "_view_module_version": "1.5.0",
            "_view_name": "HBoxView",
            "box_style": "",
            "children": [
              "IPY_MODEL_7cbe60d8e3f5497aaa33e4453a435b7d",
              "IPY_MODEL_b298edae300c48699970317ed8f200a9",
              "IPY_MODEL_13fc9cea21854f8085b950472cba4b90"
            ],
            "layout": "IPY_MODEL_53b1dc89c95d4dc6b7f25094d72e4e6b"
          }
        },
        "7cbe60d8e3f5497aaa33e4453a435b7d": {
          "model_module": "@jupyter-widgets/controls",
          "model_name": "HTMLModel",
          "model_module_version": "1.5.0",
          "state": {
            "_dom_classes": [],
            "_model_module": "@jupyter-widgets/controls",
            "_model_module_version": "1.5.0",
            "_model_name": "HTMLModel",
            "_view_count": null,
            "_view_module": "@jupyter-widgets/controls",
            "_view_module_version": "1.5.0",
            "_view_name": "HTMLView",
            "description": "",
            "description_tooltip": null,
            "layout": "IPY_MODEL_be7b2f3846184cbaba3bad7871aaf87b",
            "placeholder": "​",
            "style": "IPY_MODEL_d0f1446c7e99421ca5635571ebca0048",
            "value": "tokenizer_config.json: 100%"
          }
        },
        "b298edae300c48699970317ed8f200a9": {
          "model_module": "@jupyter-widgets/controls",
          "model_name": "FloatProgressModel",
          "model_module_version": "1.5.0",
          "state": {
            "_dom_classes": [],
            "_model_module": "@jupyter-widgets/controls",
            "_model_module_version": "1.5.0",
            "_model_name": "FloatProgressModel",
            "_view_count": null,
            "_view_module": "@jupyter-widgets/controls",
            "_view_module_version": "1.5.0",
            "_view_name": "ProgressView",
            "bar_style": "success",
            "description": "",
            "description_tooltip": null,
            "layout": "IPY_MODEL_4318b4490afb4ec6a76f92c0a3b502dc",
            "max": 48,
            "min": 0,
            "orientation": "horizontal",
            "style": "IPY_MODEL_99e1e3f826ef407a9564346d7f864936",
            "value": 48
          }
        },
        "13fc9cea21854f8085b950472cba4b90": {
          "model_module": "@jupyter-widgets/controls",
          "model_name": "HTMLModel",
          "model_module_version": "1.5.0",
          "state": {
            "_dom_classes": [],
            "_model_module": "@jupyter-widgets/controls",
            "_model_module_version": "1.5.0",
            "_model_name": "HTMLModel",
            "_view_count": null,
            "_view_module": "@jupyter-widgets/controls",
            "_view_module_version": "1.5.0",
            "_view_name": "HTMLView",
            "description": "",
            "description_tooltip": null,
            "layout": "IPY_MODEL_5e36cee300db406f8ac9797c04853c72",
            "placeholder": "​",
            "style": "IPY_MODEL_dc953acd1e764d6299e83e94b247c4a1",
            "value": " 48.0/48.0 [00:00&lt;00:00, 2.90kB/s]"
          }
        },
        "53b1dc89c95d4dc6b7f25094d72e4e6b": {
          "model_module": "@jupyter-widgets/base",
          "model_name": "LayoutModel",
          "model_module_version": "1.2.0",
          "state": {
            "_model_module": "@jupyter-widgets/base",
            "_model_module_version": "1.2.0",
            "_model_name": "LayoutModel",
            "_view_count": null,
            "_view_module": "@jupyter-widgets/base",
            "_view_module_version": "1.2.0",
            "_view_name": "LayoutView",
            "align_content": null,
            "align_items": null,
            "align_self": null,
            "border": null,
            "bottom": null,
            "display": null,
            "flex": null,
            "flex_flow": null,
            "grid_area": null,
            "grid_auto_columns": null,
            "grid_auto_flow": null,
            "grid_auto_rows": null,
            "grid_column": null,
            "grid_gap": null,
            "grid_row": null,
            "grid_template_areas": null,
            "grid_template_columns": null,
            "grid_template_rows": null,
            "height": null,
            "justify_content": null,
            "justify_items": null,
            "left": null,
            "margin": null,
            "max_height": null,
            "max_width": null,
            "min_height": null,
            "min_width": null,
            "object_fit": null,
            "object_position": null,
            "order": null,
            "overflow": null,
            "overflow_x": null,
            "overflow_y": null,
            "padding": null,
            "right": null,
            "top": null,
            "visibility": null,
            "width": null
          }
        },
        "be7b2f3846184cbaba3bad7871aaf87b": {
          "model_module": "@jupyter-widgets/base",
          "model_name": "LayoutModel",
          "model_module_version": "1.2.0",
          "state": {
            "_model_module": "@jupyter-widgets/base",
            "_model_module_version": "1.2.0",
            "_model_name": "LayoutModel",
            "_view_count": null,
            "_view_module": "@jupyter-widgets/base",
            "_view_module_version": "1.2.0",
            "_view_name": "LayoutView",
            "align_content": null,
            "align_items": null,
            "align_self": null,
            "border": null,
            "bottom": null,
            "display": null,
            "flex": null,
            "flex_flow": null,
            "grid_area": null,
            "grid_auto_columns": null,
            "grid_auto_flow": null,
            "grid_auto_rows": null,
            "grid_column": null,
            "grid_gap": null,
            "grid_row": null,
            "grid_template_areas": null,
            "grid_template_columns": null,
            "grid_template_rows": null,
            "height": null,
            "justify_content": null,
            "justify_items": null,
            "left": null,
            "margin": null,
            "max_height": null,
            "max_width": null,
            "min_height": null,
            "min_width": null,
            "object_fit": null,
            "object_position": null,
            "order": null,
            "overflow": null,
            "overflow_x": null,
            "overflow_y": null,
            "padding": null,
            "right": null,
            "top": null,
            "visibility": null,
            "width": null
          }
        },
        "d0f1446c7e99421ca5635571ebca0048": {
          "model_module": "@jupyter-widgets/controls",
          "model_name": "DescriptionStyleModel",
          "model_module_version": "1.5.0",
          "state": {
            "_model_module": "@jupyter-widgets/controls",
            "_model_module_version": "1.5.0",
            "_model_name": "DescriptionStyleModel",
            "_view_count": null,
            "_view_module": "@jupyter-widgets/base",
            "_view_module_version": "1.2.0",
            "_view_name": "StyleView",
            "description_width": ""
          }
        },
        "4318b4490afb4ec6a76f92c0a3b502dc": {
          "model_module": "@jupyter-widgets/base",
          "model_name": "LayoutModel",
          "model_module_version": "1.2.0",
          "state": {
            "_model_module": "@jupyter-widgets/base",
            "_model_module_version": "1.2.0",
            "_model_name": "LayoutModel",
            "_view_count": null,
            "_view_module": "@jupyter-widgets/base",
            "_view_module_version": "1.2.0",
            "_view_name": "LayoutView",
            "align_content": null,
            "align_items": null,
            "align_self": null,
            "border": null,
            "bottom": null,
            "display": null,
            "flex": null,
            "flex_flow": null,
            "grid_area": null,
            "grid_auto_columns": null,
            "grid_auto_flow": null,
            "grid_auto_rows": null,
            "grid_column": null,
            "grid_gap": null,
            "grid_row": null,
            "grid_template_areas": null,
            "grid_template_columns": null,
            "grid_template_rows": null,
            "height": null,
            "justify_content": null,
            "justify_items": null,
            "left": null,
            "margin": null,
            "max_height": null,
            "max_width": null,
            "min_height": null,
            "min_width": null,
            "object_fit": null,
            "object_position": null,
            "order": null,
            "overflow": null,
            "overflow_x": null,
            "overflow_y": null,
            "padding": null,
            "right": null,
            "top": null,
            "visibility": null,
            "width": null
          }
        },
        "99e1e3f826ef407a9564346d7f864936": {
          "model_module": "@jupyter-widgets/controls",
          "model_name": "ProgressStyleModel",
          "model_module_version": "1.5.0",
          "state": {
            "_model_module": "@jupyter-widgets/controls",
            "_model_module_version": "1.5.0",
            "_model_name": "ProgressStyleModel",
            "_view_count": null,
            "_view_module": "@jupyter-widgets/base",
            "_view_module_version": "1.2.0",
            "_view_name": "StyleView",
            "bar_color": null,
            "description_width": ""
          }
        },
        "5e36cee300db406f8ac9797c04853c72": {
          "model_module": "@jupyter-widgets/base",
          "model_name": "LayoutModel",
          "model_module_version": "1.2.0",
          "state": {
            "_model_module": "@jupyter-widgets/base",
            "_model_module_version": "1.2.0",
            "_model_name": "LayoutModel",
            "_view_count": null,
            "_view_module": "@jupyter-widgets/base",
            "_view_module_version": "1.2.0",
            "_view_name": "LayoutView",
            "align_content": null,
            "align_items": null,
            "align_self": null,
            "border": null,
            "bottom": null,
            "display": null,
            "flex": null,
            "flex_flow": null,
            "grid_area": null,
            "grid_auto_columns": null,
            "grid_auto_flow": null,
            "grid_auto_rows": null,
            "grid_column": null,
            "grid_gap": null,
            "grid_row": null,
            "grid_template_areas": null,
            "grid_template_columns": null,
            "grid_template_rows": null,
            "height": null,
            "justify_content": null,
            "justify_items": null,
            "left": null,
            "margin": null,
            "max_height": null,
            "max_width": null,
            "min_height": null,
            "min_width": null,
            "object_fit": null,
            "object_position": null,
            "order": null,
            "overflow": null,
            "overflow_x": null,
            "overflow_y": null,
            "padding": null,
            "right": null,
            "top": null,
            "visibility": null,
            "width": null
          }
        },
        "dc953acd1e764d6299e83e94b247c4a1": {
          "model_module": "@jupyter-widgets/controls",
          "model_name": "DescriptionStyleModel",
          "model_module_version": "1.5.0",
          "state": {
            "_model_module": "@jupyter-widgets/controls",
            "_model_module_version": "1.5.0",
            "_model_name": "DescriptionStyleModel",
            "_view_count": null,
            "_view_module": "@jupyter-widgets/base",
            "_view_module_version": "1.2.0",
            "_view_name": "StyleView",
            "description_width": ""
          }
        },
        "2a0e2fe8bc0849b2bc60f3b332eff41f": {
          "model_module": "@jupyter-widgets/controls",
          "model_name": "HBoxModel",
          "model_module_version": "1.5.0",
          "state": {
            "_dom_classes": [],
            "_model_module": "@jupyter-widgets/controls",
            "_model_module_version": "1.5.0",
            "_model_name": "HBoxModel",
            "_view_count": null,
            "_view_module": "@jupyter-widgets/controls",
            "_view_module_version": "1.5.0",
            "_view_name": "HBoxView",
            "box_style": "",
            "children": [
              "IPY_MODEL_67f2af16b57f4a8caa9e23fa9b063d4b",
              "IPY_MODEL_8543ddffda2347fca9ab71583b1fa74c",
              "IPY_MODEL_be1fdd610ce246afa42ee47f3482e659"
            ],
            "layout": "IPY_MODEL_5ba8cb7363a848089ff98f7722f4fb39"
          }
        },
        "67f2af16b57f4a8caa9e23fa9b063d4b": {
          "model_module": "@jupyter-widgets/controls",
          "model_name": "HTMLModel",
          "model_module_version": "1.5.0",
          "state": {
            "_dom_classes": [],
            "_model_module": "@jupyter-widgets/controls",
            "_model_module_version": "1.5.0",
            "_model_name": "HTMLModel",
            "_view_count": null,
            "_view_module": "@jupyter-widgets/controls",
            "_view_module_version": "1.5.0",
            "_view_name": "HTMLView",
            "description": "",
            "description_tooltip": null,
            "layout": "IPY_MODEL_9ee3702378b741bf87577ac9696480b2",
            "placeholder": "​",
            "style": "IPY_MODEL_c7046dd9c75a433f9dc74675f623001f",
            "value": "vocab.txt: 100%"
          }
        },
        "8543ddffda2347fca9ab71583b1fa74c": {
          "model_module": "@jupyter-widgets/controls",
          "model_name": "FloatProgressModel",
          "model_module_version": "1.5.0",
          "state": {
            "_dom_classes": [],
            "_model_module": "@jupyter-widgets/controls",
            "_model_module_version": "1.5.0",
            "_model_name": "FloatProgressModel",
            "_view_count": null,
            "_view_module": "@jupyter-widgets/controls",
            "_view_module_version": "1.5.0",
            "_view_name": "ProgressView",
            "bar_style": "success",
            "description": "",
            "description_tooltip": null,
            "layout": "IPY_MODEL_fb8d5b532de347d9a00ef80b9bf08e41",
            "max": 231508,
            "min": 0,
            "orientation": "horizontal",
            "style": "IPY_MODEL_94985865aff24fceac7c0bf89db87f2e",
            "value": 231508
          }
        },
        "be1fdd610ce246afa42ee47f3482e659": {
          "model_module": "@jupyter-widgets/controls",
          "model_name": "HTMLModel",
          "model_module_version": "1.5.0",
          "state": {
            "_dom_classes": [],
            "_model_module": "@jupyter-widgets/controls",
            "_model_module_version": "1.5.0",
            "_model_name": "HTMLModel",
            "_view_count": null,
            "_view_module": "@jupyter-widgets/controls",
            "_view_module_version": "1.5.0",
            "_view_name": "HTMLView",
            "description": "",
            "description_tooltip": null,
            "layout": "IPY_MODEL_41574432b0864a3783b4d0ee2feb64b4",
            "placeholder": "​",
            "style": "IPY_MODEL_f501aac8c3444ccba19c3a422f950671",
            "value": " 232k/232k [00:00&lt;00:00, 5.81MB/s]"
          }
        },
        "5ba8cb7363a848089ff98f7722f4fb39": {
          "model_module": "@jupyter-widgets/base",
          "model_name": "LayoutModel",
          "model_module_version": "1.2.0",
          "state": {
            "_model_module": "@jupyter-widgets/base",
            "_model_module_version": "1.2.0",
            "_model_name": "LayoutModel",
            "_view_count": null,
            "_view_module": "@jupyter-widgets/base",
            "_view_module_version": "1.2.0",
            "_view_name": "LayoutView",
            "align_content": null,
            "align_items": null,
            "align_self": null,
            "border": null,
            "bottom": null,
            "display": null,
            "flex": null,
            "flex_flow": null,
            "grid_area": null,
            "grid_auto_columns": null,
            "grid_auto_flow": null,
            "grid_auto_rows": null,
            "grid_column": null,
            "grid_gap": null,
            "grid_row": null,
            "grid_template_areas": null,
            "grid_template_columns": null,
            "grid_template_rows": null,
            "height": null,
            "justify_content": null,
            "justify_items": null,
            "left": null,
            "margin": null,
            "max_height": null,
            "max_width": null,
            "min_height": null,
            "min_width": null,
            "object_fit": null,
            "object_position": null,
            "order": null,
            "overflow": null,
            "overflow_x": null,
            "overflow_y": null,
            "padding": null,
            "right": null,
            "top": null,
            "visibility": null,
            "width": null
          }
        },
        "9ee3702378b741bf87577ac9696480b2": {
          "model_module": "@jupyter-widgets/base",
          "model_name": "LayoutModel",
          "model_module_version": "1.2.0",
          "state": {
            "_model_module": "@jupyter-widgets/base",
            "_model_module_version": "1.2.0",
            "_model_name": "LayoutModel",
            "_view_count": null,
            "_view_module": "@jupyter-widgets/base",
            "_view_module_version": "1.2.0",
            "_view_name": "LayoutView",
            "align_content": null,
            "align_items": null,
            "align_self": null,
            "border": null,
            "bottom": null,
            "display": null,
            "flex": null,
            "flex_flow": null,
            "grid_area": null,
            "grid_auto_columns": null,
            "grid_auto_flow": null,
            "grid_auto_rows": null,
            "grid_column": null,
            "grid_gap": null,
            "grid_row": null,
            "grid_template_areas": null,
            "grid_template_columns": null,
            "grid_template_rows": null,
            "height": null,
            "justify_content": null,
            "justify_items": null,
            "left": null,
            "margin": null,
            "max_height": null,
            "max_width": null,
            "min_height": null,
            "min_width": null,
            "object_fit": null,
            "object_position": null,
            "order": null,
            "overflow": null,
            "overflow_x": null,
            "overflow_y": null,
            "padding": null,
            "right": null,
            "top": null,
            "visibility": null,
            "width": null
          }
        },
        "c7046dd9c75a433f9dc74675f623001f": {
          "model_module": "@jupyter-widgets/controls",
          "model_name": "DescriptionStyleModel",
          "model_module_version": "1.5.0",
          "state": {
            "_model_module": "@jupyter-widgets/controls",
            "_model_module_version": "1.5.0",
            "_model_name": "DescriptionStyleModel",
            "_view_count": null,
            "_view_module": "@jupyter-widgets/base",
            "_view_module_version": "1.2.0",
            "_view_name": "StyleView",
            "description_width": ""
          }
        },
        "fb8d5b532de347d9a00ef80b9bf08e41": {
          "model_module": "@jupyter-widgets/base",
          "model_name": "LayoutModel",
          "model_module_version": "1.2.0",
          "state": {
            "_model_module": "@jupyter-widgets/base",
            "_model_module_version": "1.2.0",
            "_model_name": "LayoutModel",
            "_view_count": null,
            "_view_module": "@jupyter-widgets/base",
            "_view_module_version": "1.2.0",
            "_view_name": "LayoutView",
            "align_content": null,
            "align_items": null,
            "align_self": null,
            "border": null,
            "bottom": null,
            "display": null,
            "flex": null,
            "flex_flow": null,
            "grid_area": null,
            "grid_auto_columns": null,
            "grid_auto_flow": null,
            "grid_auto_rows": null,
            "grid_column": null,
            "grid_gap": null,
            "grid_row": null,
            "grid_template_areas": null,
            "grid_template_columns": null,
            "grid_template_rows": null,
            "height": null,
            "justify_content": null,
            "justify_items": null,
            "left": null,
            "margin": null,
            "max_height": null,
            "max_width": null,
            "min_height": null,
            "min_width": null,
            "object_fit": null,
            "object_position": null,
            "order": null,
            "overflow": null,
            "overflow_x": null,
            "overflow_y": null,
            "padding": null,
            "right": null,
            "top": null,
            "visibility": null,
            "width": null
          }
        },
        "94985865aff24fceac7c0bf89db87f2e": {
          "model_module": "@jupyter-widgets/controls",
          "model_name": "ProgressStyleModel",
          "model_module_version": "1.5.0",
          "state": {
            "_model_module": "@jupyter-widgets/controls",
            "_model_module_version": "1.5.0",
            "_model_name": "ProgressStyleModel",
            "_view_count": null,
            "_view_module": "@jupyter-widgets/base",
            "_view_module_version": "1.2.0",
            "_view_name": "StyleView",
            "bar_color": null,
            "description_width": ""
          }
        },
        "41574432b0864a3783b4d0ee2feb64b4": {
          "model_module": "@jupyter-widgets/base",
          "model_name": "LayoutModel",
          "model_module_version": "1.2.0",
          "state": {
            "_model_module": "@jupyter-widgets/base",
            "_model_module_version": "1.2.0",
            "_model_name": "LayoutModel",
            "_view_count": null,
            "_view_module": "@jupyter-widgets/base",
            "_view_module_version": "1.2.0",
            "_view_name": "LayoutView",
            "align_content": null,
            "align_items": null,
            "align_self": null,
            "border": null,
            "bottom": null,
            "display": null,
            "flex": null,
            "flex_flow": null,
            "grid_area": null,
            "grid_auto_columns": null,
            "grid_auto_flow": null,
            "grid_auto_rows": null,
            "grid_column": null,
            "grid_gap": null,
            "grid_row": null,
            "grid_template_areas": null,
            "grid_template_columns": null,
            "grid_template_rows": null,
            "height": null,
            "justify_content": null,
            "justify_items": null,
            "left": null,
            "margin": null,
            "max_height": null,
            "max_width": null,
            "min_height": null,
            "min_width": null,
            "object_fit": null,
            "object_position": null,
            "order": null,
            "overflow": null,
            "overflow_x": null,
            "overflow_y": null,
            "padding": null,
            "right": null,
            "top": null,
            "visibility": null,
            "width": null
          }
        },
        "f501aac8c3444ccba19c3a422f950671": {
          "model_module": "@jupyter-widgets/controls",
          "model_name": "DescriptionStyleModel",
          "model_module_version": "1.5.0",
          "state": {
            "_model_module": "@jupyter-widgets/controls",
            "_model_module_version": "1.5.0",
            "_model_name": "DescriptionStyleModel",
            "_view_count": null,
            "_view_module": "@jupyter-widgets/base",
            "_view_module_version": "1.2.0",
            "_view_name": "StyleView",
            "description_width": ""
          }
        }
      }
    }
  },
  "cells": [
    {
      "cell_type": "markdown",
      "metadata": {
        "id": "view-in-github",
        "colab_type": "text"
      },
      "source": [
        "<a href=\"https://colab.research.google.com/github/sanal-m-s/SEMESTER3/blob/main/Assignment_8.ipynb\" target=\"_parent\"><img src=\"https://colab.research.google.com/assets/colab-badge.svg\" alt=\"Open In Colab\"/></a>"
      ]
    },
    {
      "cell_type": "code",
      "execution_count": 1,
      "metadata": {
        "id": "-uwImk90osGu"
      },
      "outputs": [],
      "source": [
        "import pandas as pd"
      ]
    },
    {
      "cell_type": "code",
      "source": [
        "!git clone https://github.com/sreedevirit/TextsEmotion.git"
      ],
      "metadata": {
        "colab": {
          "base_uri": "https://localhost:8080/"
        },
        "id": "q9r9zLi3qRyY",
        "outputId": "181c5f5d-4da2-463c-ef48-01ec81a1772a"
      },
      "execution_count": 2,
      "outputs": [
        {
          "output_type": "stream",
          "name": "stdout",
          "text": [
            "Cloning into 'TextsEmotion'...\n",
            "remote: Enumerating objects: 3, done.\u001b[K\n",
            "remote: Counting objects: 100% (3/3), done.\u001b[K\n",
            "remote: Compressing objects: 100% (2/2), done.\u001b[K\n",
            "remote: Total 3 (delta 0), reused 0 (delta 0), pack-reused 0 (from 0)\u001b[K\n",
            "Receiving objects: 100% (3/3), 9.40 KiB | 9.40 MiB/s, done.\n"
          ]
        }
      ]
    },
    {
      "cell_type": "code",
      "source": [
        "df=pd.read_csv('TextsEmotion/Text_Emotion.csv')"
      ],
      "metadata": {
        "id": "uLUPTjalqaaM"
      },
      "execution_count": 3,
      "outputs": []
    },
    {
      "cell_type": "code",
      "source": [
        "print(df.head(5))"
      ],
      "metadata": {
        "colab": {
          "base_uri": "https://localhost:8080/"
        },
        "id": "bJJoC_Otqfd6",
        "outputId": "1575a0f5-8600-417d-e64e-316e18cdc8a3"
      },
      "execution_count": 4,
      "outputs": [
        {
          "output_type": "stream",
          "name": "stdout",
          "text": [
            "   Unnamed: 0                                               Text  Emotion\n",
            "0           0                            i didnt feel humiliated  sadness\n",
            "1           1  i can go from feeling so hopeless to so damned...  sadness\n",
            "2           2   im grabbing a minute to post i feel greedy wrong    anger\n",
            "3           3  i am ever feeling nostalgic about the fireplac...     love\n",
            "4           4                               i am feeling grouchy    anger\n"
          ]
        }
      ]
    },
    {
      "cell_type": "code",
      "source": [
        "unique_emotions = df['Emotion'].unique()\n",
        "print(\"Unique Emotions:\", unique_emotions)"
      ],
      "metadata": {
        "colab": {
          "base_uri": "https://localhost:8080/"
        },
        "id": "uQu9HvazqmhS",
        "outputId": "4dbac710-1c3e-431c-d502-f68a748f722c"
      },
      "execution_count": 5,
      "outputs": [
        {
          "output_type": "stream",
          "name": "stdout",
          "text": [
            "Unique Emotions: ['sadness' 'anger' 'love' 'surprise' 'fear' 'joy']\n"
          ]
        }
      ]
    },
    {
      "cell_type": "code",
      "source": [
        "emotion_to_label = {Emotion: index for index, Emotion in enumerate(unique_emotions)}\n",
        "print(\"Emotion to Label Mapping:\", emotion_to_label)"
      ],
      "metadata": {
        "colab": {
          "base_uri": "https://localhost:8080/"
        },
        "id": "_BV34XDAqrOB",
        "outputId": "aee0b56f-64b6-4b54-b21a-52d5ed365292"
      },
      "execution_count": 9,
      "outputs": [
        {
          "output_type": "stream",
          "name": "stdout",
          "text": [
            "Emotion to Label Mapping: {'sadness': 0, 'anger': 1, 'love': 2, 'surprise': 3, 'fear': 4, 'joy': 5}\n"
          ]
        }
      ]
    },
    {
      "cell_type": "code",
      "source": [
        "df['Emotion']=df['Emotion'].map(emotion_to_label)\n",
        "print(df)"
      ],
      "metadata": {
        "colab": {
          "base_uri": "https://localhost:8080/"
        },
        "id": "d4mBFdc0s5YB",
        "outputId": "314a64dc-4710-4e3f-c383-492365d9f40e"
      },
      "execution_count": 10,
      "outputs": [
        {
          "output_type": "stream",
          "name": "stdout",
          "text": [
            "     Unnamed: 0                                               Text  Emotion\n",
            "0             0                            i didnt feel humiliated        0\n",
            "1             1  i can go from feeling so hopeless to so damned...        0\n",
            "2             2   im grabbing a minute to post i feel greedy wrong        1\n",
            "3             3  i am ever feeling nostalgic about the fireplac...        2\n",
            "4             4                               i am feeling grouchy        1\n",
            "..          ...                                                ...      ...\n",
            "179         179  i hope to feel a bit more creative again soon ...        5\n",
            "180         180  i am no fan of the current president i am a co...        0\n",
            "181         181  i will enclose her verses on her could not wei...        3\n",
            "182         182       i begin to feel complacent with my life here        5\n",
            "183         183                        i feel vulnerable and alone        4\n",
            "\n",
            "[184 rows x 3 columns]\n"
          ]
        }
      ]
    },
    {
      "cell_type": "code",
      "source": [
        "texts = df['Text'].tolist()\n",
        "labels = df['Emotion'].tolist()"
      ],
      "metadata": {
        "id": "fELm4EEAs-Z7"
      },
      "execution_count": 11,
      "outputs": []
    },
    {
      "cell_type": "code",
      "source": [
        "from tensorflow.keras.preprocessing.text import Tokenizer\n",
        "tokenizer = Tokenizer()\n",
        "tokenizer.fit_on_texts(texts)\n",
        "word_index = tokenizer.word_index\n",
        "print(\"Word Index:\", word_index)"
      ],
      "metadata": {
        "colab": {
          "base_uri": "https://localhost:8080/"
        },
        "id": "_ga1hELatHnT",
        "outputId": "2a33d507-c627-4003-a807-8842659218e2"
      },
      "execution_count": 13,
      "outputs": [
        {
          "output_type": "stream",
          "name": "stdout",
          "text": [
            "Word Index: {'i': 1, 'the': 2, 'to': 3, 'feel': 4, 'and': 5, 'a': 6, 'that': 7, 'feeling': 8, 'of': 9, 'in': 10, 'my': 11, 'was': 12, 'am': 13, 'it': 14, 'me': 15, 'so': 16, 'is': 17, 'have': 18, 'for': 19, 'as': 20, 'be': 21, 'not': 22, 'but': 23, 'with': 24, 'on': 25, 'like': 26, 'this': 27, 'or': 28, 'when': 29, 'im': 30, 'know': 31, 'you': 32, 'because': 33, 't': 34, 'her': 35, 'about': 36, 'get': 37, 'are': 38, 'can': 39, 'just': 40, 'at': 41, 'more': 42, 'from': 43, 'been': 44, 'little': 45, 'if': 46, 'life': 47, 'do': 48, 'an': 49, 'all': 50, 'will': 51, 'make': 52, 'had': 53, 'up': 54, 'he': 55, 'what': 56, 'go': 57, 'who': 58, 'ive': 59, 'also': 60, 'really': 61, 'by': 62, 'need': 63, 'we': 64, 'how': 65, 'going': 66, 'being': 67, 'around': 68, 'still': 69, 'has': 70, 'm': 71, 'think': 72, 'things': 73, 'than': 74, 'its': 75, 's': 76, 'time': 77, 'out': 78, 'then': 79, 'she': 80, 'into': 81, 'very': 82, 'could': 83, 'someone': 84, 'times': 85, 'no': 86, 'pretty': 87, 'now': 88, 'doing': 89, 'love': 90, 'him': 91, 'want': 92, 'bit': 93, 'one': 94, 'their': 95, 'ever': 96, 'year': 97, 'too': 98, 'some': 99, 'feels': 100, 'put': 101, 'anything': 102, 'able': 103, 'morning': 104, 'people': 105, 'few': 106, 'days': 107, 'much': 108, 'never': 109, 'such': 110, 'day': 111, 'them': 112, 'us': 113, 'don': 114, 'wanted': 115, 'here': 116, 'home': 117, 'his': 118, 'there': 119, 'didn': 120, 'even': 121, 'sure': 122, 'made': 123, 'something': 124, 'most': 125, 'started': 126, 'child': 127, 'work': 128, 'god': 129, 'were': 130, 'bitter': 131, 'always': 132, 'needs': 133, 'over': 134, 'remember': 135, 'would': 136, 'safe': 137, 'away': 138, 'book': 139, 'own': 140, 'off': 141, 'while': 142, 'many': 143, 'did': 144, 'first': 145, 'might': 146, 'good': 147, 'they': 148, 'beautiful': 149, 'week': 150, 'feelings': 151, 'excited': 152, 'only': 153, 'again': 154, 'getting': 155, 'wear': 156, 'companion': 157, 'didnt': 158, 'lately': 159, 'wasnt': 160, 'funny': 161, 'possible': 162, 'find': 163, 'let': 164, 'side': 165, 'began': 166, 'every': 167, 'without': 168, 'anyone': 169, 'two': 170, 'help': 171, 'your': 172, 'already': 173, 'though': 174, 'dont': 175, 'person': 176, 'body': 177, 'read': 178, 'couple': 179, 'left': 180, 'where': 181, 'accepted': 182, 'creative': 183, 'myself': 184, 'words': 185, 'stories': 186, 'hope': 187, 'perfect': 188, 'new': 189, 'special': 190, 'tell': 191, 'sad': 192, 'hot': 193, 'selfish': 194, 'look': 195, 'coming': 196, 'loving': 197, 'almost': 198, 'having': 199, 'girls': 200, 'finished': 201, 'back': 202, 'pain': 203, 'miserable': 204, 'family': 205, 'see': 206, 'finding': 207, 'use': 208, 'thought': 209, 'show': 210, 'bed': 211, 'today': 212, 'strange': 213, 'after': 214, 'car': 215, 'say': 216, 'yet': 217, 'eyes': 218, 'quite': 219, 'thing': 220, 'artistic': 221, 'world': 222, 'hopeless': 223, 'awake': 224, 'post': 225, 'greedy': 226, 'wrong': 227, 'property': 228, 'why': 229, 'taking': 230, 'man': 231, 'petronas': 232, 'well': 233, 'mean': 234, 'running': 235, 'experience': 236, 'type': 237, 'point': 238, 'write': 239, 'corners': 240, 'alone': 241, 'reassured': 242, 'each': 243, 'embarrassed': 244, 'dolls': 245, 'skeptical': 246, 'completely': 247, 'overwhelmed': 248, 'form': 249, 'list': 250, 'five': 251, 'grateful': 252, 'amused': 253, 'eat': 254, 'wish': 255, 'our': 256, 'turned': 257, 'elses': 258, 'kinda': 259, 'appalled': 260, 'etc': 261, 'skirt': 262, 'seen': 263, 'heard': 264, 'past': 265, 'frustrated': 266, 'entirely': 267, 'imagine': 268, 'enough': 269, 'sex': 270, 'won': 271, 'content': 272, 'however': 273, 'causing': 274, 'self': 275, 'ask': 276, 'christmas': 277, 'plan': 278, 'share': 279, 'got': 280, 'festive': 281, 'which': 282, 'brave': 283, 'passionate': 284, 'fun': 285, 'discouraged': 286, 'cow': 287, 'lost': 288, 'mind': 289, 'cold': 290, 'gorgeous': 291, 'u': 292, 'under': 293, 'unwelcome': 294, 'ill': 295, 'leave': 296, 'begin': 297, 'fall': 298, 'mom': 299, 'graceful': 300, 'talk': 301, 'brother': 302, 'popular': 303, 'place': 304, 'young': 305, 'amazing': 306, 'prayers': 307, 'others': 308, 'before': 309, 'parents': 310, 'violent': 311, 'emotions': 312, 'these': 313, 'suppose': 314, 'truth': 315, 'clearly': 316, 'ready': 317, 'sit': 318, 'canvas': 319, 'worthwhile': 320, 'honored': 321, 'girl': 322, 'woman': 323, 'piece': 324, 'miss': 325, 'school': 326, 'rushed': 327, 'happy': 328, 'horses': 329, 'quiet': 330, 'handled': 331, 'start': 332, 'done': 333, 'realize': 334, 'those': 335, 'terrified': 336, 'meet': 337, 'supportive': 338, 'arms': 339, 'mood': 340, 'passed': 341, 'flying': 342, 'dogs': 343, 'cannot': 344, 'understand': 345, 'should': 346, 'hear': 347, 'associations': 348, 'crying': 349, 'short': 350, 'months': 351, 'catching': 352, 'helps': 353, 'hard': 354, 'high': 355, 'wushu': 356, 'kids': 357, 'whether': 358, 'friend': 359, 'down': 360, 'street': 361, 'stranger': 362, 'soon': 363, 'alright': 364, 'pair': 365, 'fabulous': 366, 'until': 367, 'friday': 368, 'lonely': 369, 'blog': 370, 'son': 371, 'fantastic': 372, 'confident': 373, 'other': 374, 'through': 375, 'last': 376, 'maybe': 377, 'right': 378, 'name': 379, 'perhaps': 380, 'sleeping': 381, 'amp': 382, 'against': 383, 'forever': 384, 'genre': 385, 'dot': 386, 'mountain': 387, 'whats': 388, 'curious': 389, 'colons': 390, 'needy': 391, 'distracted': 392, 'thinking': 393, 'humiliated': 394, 'damned': 395, 'hopeful': 396, 'cares': 397, 'grabbing': 398, 'minute': 399, 'nostalgic': 400, 'fireplace': 401, 'grouchy': 402, 'burdened': 403, 'milligrams': 404, 'recommended': 405, 'amount': 406, 'fallen': 407, 'asleep': 408, 'lot': 409, 'faster': 410, 'confused': 411, 'teenager': 412, 'jaded': 413, 'old': 414, 'years': 415, 'performed': 416, 'huge': 417, 'profit': 418, 'romantic': 419, 'suffering': 420, 'seeing': 421, 'divine': 422, 'expect': 423, 'spiritual': 424, 'encounter': 425, 'easiest': 426, 'dissatisfied': 427, 'low': 428, 'energy': 429, 'thirsty': 430, 'immense': 431, 'sympathy': 432, 'general': 433, 'proto': 434, 'writer': 435, 'trying': 436, 'sign': 437, 'agent': 438, 'publishing': 439, 'contract': 440, 'precious': 441, 'anxiety': 442, 'pathetic': 443, 'sentimental': 444, 'collection': 445, 'vintage': 446, 'barbie': 447, 'sixties': 448, 'compromised': 449, 'value': 450, 'unit': 451, 'irritated': 452, 'rejected': 453, 'saying': 454, 'strategies': 455, 'grounded': 456, 'pour': 457, 'heart': 458, 'journal': 459, 'letter': 460, 'end': 461, 'delighted': 462, 'chai': 463, 'lifeline': 464, 'support': 465, 'encouragement': 466, 'great': 467, 'glad': 468, 'fucked': 469, 'usually': 470, 'best': 471, 'longer': 472, 'tolerate': 473, 'effect': 474, 'bm': 475, 'lives': 476, 'fact': 477, 'angry': 478, 'particularly': 479, 'kind': 480, 'stressed': 481, 'inhibited': 482, 'kitchen': 483, 'painting': 484, 'picture': 485, 'become': 486, 'defeated': 487, 'explain': 488, 'wide': 489, 'lenghth': 490, 'measures': 491, 'pp': 492, 'superior': 493, 'dead': 494, 'chicken': 495, 'grieving': 496, 'giddy': 497, 'elegant': 498, 'perfectly': 499, 'fitted': 500, 'pencil': 501, 'acutely': 502, 'distressed': 503, 'impressed': 504, 'companies': 505, 'climbed': 506, 'hill': 507, 'id': 508, 'paced': 509, 'course': 510, 'factor': 511, 'hampered': 512, 'dent': 513, 'real': 514, 'scenario': 515, 'emotionally': 516, 'connected': 517, 'totally': 518, 'morally': 519, 'acceptable': 520, 'close': 521, 'prolonged': 522, 'physical': 523, 'contact': 524, 'expected': 525, 'subsequently': 526, 'less': 527, 'splendid': 528, 'step': 529, 'rude': 530, 'writing': 531, 'elderly': 532, 'gentleman': 533, 'gifts': 534, 'mild': 535, 'greed': 536, 'protected': 537, 'small': 538, 'season': 539, 'everyday': 540, 'traveling': 541, 'adventures': 542, 'inspirations': 543, 'handmade': 544, 'creations': 545, 'inspired': 546, 'trees': 547, 'spurring': 548, 'worn': 549, 'once': 550, 'concealer': 551, 'pale': 552, 'strongly': 553, 'jerk': 554, 'decides': 555, 'poke': 556, 'robbing': 557, 'peter': 558, 'pay': 559, 'paul': 560, 'cant': 561, 'afford': 562, 'way': 563, 'listless': 564, 'different': 565, 'worry': 566, 'sane': 567, 'felt': 568, 'reading': 569, 'said': 570, 'sam': 571, 'guarantee': 572, 'used': 573, 'paragraph': 574, 'mine': 575, 'boat': 576, 'trip': 577, 'denmark': 578, 'stopped': 579, 'dough': 580, 'found': 581, 'spoiled': 582, 'stymied': 583, 'wrote': 584, 'unsure': 585, 'somewhere': 586, 'story': 587, 'unintended': 588, 'bag': 589, 'qaf': 590, 'cryin': 591, 'jacynthe': 592, 'lookin': 593, 'feelin': 594, 'rupaul': 595, 'skins': 596, 'scissor': 597, 'sisters': 598, 'valentine': 599, 'sun': 600, 'fed': 601, 'kayle': 602, 'daddy': 603, 'gerling': 604, 'unkind': 605, 'basically': 606, 'fake': 607, 'realm': 608, 'science': 609, 'fiction': 610, 'hate': 611, 'living': 612, 'dads': 613, 'roof': 614, 'gives': 615, 'excuse': 616, 'asshole': 617, 'hes': 618, 'providing': 619, 'live': 620, 'keep': 621, 'pleasantly': 622, 'surprised': 623, 'supportiveness': 624, 'ease': 625, 'situations': 626, 'anymore': 627, 'vigorous': 628, 'sexual': 629, 'activity': 630, 'yes': 631, 'misspelt': 632, 'cumming': 633, 'parts': 634, 'warm': 635, 'smile': 636, 'rob': 637, 'nurture': 638, 'heal': 639, 'law': 640, 'extremely': 641, 'stiff': 642, 'ate': 643, 'gentle': 644, 'tingle': 645, 'throughout': 646, 'healing': 647, 'cellular': 648, 'level': 649, 'pressured': 650, 'thin': 651, 'depending': 652, 'trend': 653, 'rejuvenated': 654, 'butt': 655, 'implants': 656, 'several': 657, 'tortured': 658, 'hallucinations': 659, 'moving': 660, 'figures': 661, 'sounds': 662, 'vibrations': 663, 'nearly': 664, 'detox': 665, 'former': 666, 'posts': 667, 'asked': 668, 'considered': 669, 'may': 670, 'deserve': 671, 'answered': 672, 'enraged': 673, 'becomes': 674, 'roller': 675, 'coaster': 676, 'supposed': 677, 'unpleasant': 678, 'shared': 679, 'havent': 680, 'faithful': 681, 'dwelled': 682, 'doubt': 683, 'uncertainty': 684, 'faith': 685, 'bought': 686, 'makeup': 687, 'c': 688, 'proudest': 689, 'mum': 690, 'earth': 691, 'figure': 692, 'loves': 693, 'matter': 694, 'else': 695, 'michelle': 696, 'goes': 697, 'ballistic': 698, 'necessarily': 699, 'f': 700, 'bombs': 701, 'necessary': 702, 'print': 703, 'journals': 704, 'ovaries': 705, 'aching': 706, 'talking': 707, 'chris': 708, 'mostly': 709, 'took': 710, 'pictures': 711, 'unimportant': 712, 'stuff': 713, 'tired': 714, 'given': 715, 'unsuitable': 716, 'images': 717, 'blamed': 718, 'result': 719, 'successfully': 720, 'manage': 721, 'stretch': 722, 'mxm': 723, 'achievement': 724, 'itself': 725, 'usage': 726, 'money': 727, 'future': 728, 'briefs': 729, 'nay': 730, 'important': 731, 'influence': 732, 'talented': 733, 'fully': 734, 'alive': 735, 'angered': 736, 'firey': 737, 'garbage': 738, 'leanne': 739, 'drove': 740, 'dannika': 741, 'greeted': 742, 'corner': 743, 'hellip': 744, 'furious': 745, 'shooter': 746, 'since': 747, 'learned': 748, 'shows': 749, 'trusting': 750, 'relaxed': 751, 'frequently': 752, 'december': 753, 'smug': 754, 'everything': 755, 'ok': 756, 'worthless': 757, 'during': 758, 'struggling': 759, 'lay': 760, 'dark': 761, 'least': 762, 'airport': 763, 'entire': 764, 'guess': 765, 'mums': 766, 'involved': 767, 'accident': 768, 'bringing': 769, 'present': 770, 'exams': 771, 'colours': 772, 'letting': 773, 'animosity': 774, 'towards': 775, 'wronged': 776, 'decided': 777, 'throwing': 778, 'shitty': 779, 'shit': 780, 'paper': 781, 'starting': 782, 'wryly': 783, 'banal': 784, 'comedy': 785, 'errors': 786, 'turning': 787, 'vital': 788, 'bodies': 789, 'owners': 790, 'victimized': 791, 'attorneys': 792, 'manager': 793, 'goodbye': 794, 'fam': 795, 'theyre': 796, 'heartless': 797, 'bitch': 798, 'hey': 799, 'spend': 800, 'another': 801, 'country': 802, 'wont': 803, 'cry': 804, 'lily': 805, 'opportunities': 806, 'lasted': 807, 'alba': 808, 'fitting': 809, 'ton': 810, 'word': 811, 'works': 812, 'obtain': 813, 'technical': 814, 'skill': 815, 'ashamed': 816, 'somehow': 817, 'motivated': 818, 'saw': 819, 'performances': 820, 'whole': 821, 'heartedly': 822, 'despite': 823, 'tiredness': 824, 'overwhelming': 825, 'spritz': 826, 'toner': 827, 'calm': 828, 'soothe': 829, 'effort': 830, 'required': 831, 'better': 832, 'themselves': 833, 'situation': 834, 'member': 835, 'college': 836, 'neighbor': 837, 'complete': 838, 'tree': 839, 've': 840, 'goings': 841, 'ons': 842, 'coronation': 843, 'seriously': 844, 'class': 845, 'combination': 846, 'unsuccessful': 847, 'stress': 848, 'late': 849, 'horrible': 850, 'resulted': 851, 'grappling': 852, 'rarely': 853, 'advances': 854, 'any': 855, 'cause': 856, 'stick': 857, 'rule': 858, 'posting': 859, 'online': 860, 'wouldnt': 861, 'prepared': 862, 'somebodys': 863, 'face': 864, 'useful': 865, 'pains': 866, 'becoming': 867, 'group': 868, 'idea': 869, 'ugly': 870, 'inclined': 871, 'ratty': 872, 'jeans': 873, 'sweatshirt': 874, 'dress': 875, 'heels': 876, 'house': 877, 'boost': 878, 'esteem': 879, 'slightly': 880, 'definitely': 881, 'bother': 882, 'buy': 883, 'homesick': 884, 'dance': 885, 'workout': 886, 'touch': 887, 'assuredly': 888, 'return': 889, 'shall': 890, 'vain': 891, 'awful': 892, 'cramps': 893, 'honoured': 894, 'call': 895, 'friends': 896, 'brotherhood': 897, 'begun': 898, 'apprehensive': 899, 'thick': 900, 'black': 901, 'rain': 902, 'clouds': 903, 'stormed': 904, 'sky': 905, 'above': 906, 'town': 907, 'stated': 908, 'reason': 909, 'fearful': 910, 'unsafe': 911, 'shaken': 912, 'tsa': 913, 'pulled': 914, 'croissants': 915, 'lunch': 916, 'groups': 917, 'awkward': 918, 'overcompensate': 919, 'talkative': 920, 'finally': 921, 'especially': 922, 'disappoint': 923, 'loved': 924, 'img': 925, 'src': 926, 'http': 927, 'eager': 928, 'quilting': 929, 'horny': 930, 'lets': 931, 'poem': 932, 'doesn': 933, 'pressure': 934, 'uncomfortable': 935, 'sense': 936, 'understanding': 937, 'land': 938, 'raising': 939, 'father': 940, 'ancestral': 941, 'shower': 942, 'questioning': 943, 'movement': 944, 'effortlessly': 945, 'energetic': 946, 'bouncy': 947, 'gym': 948, 'run': 949, 'outside': 950, 'take': 951, 'pram': 952, 'long': 953, 'walk': 954, 'often': 955, 'three': 956, 'strong': 957, 'burst': 958, 'tears': 959, 'devastating': 960, 'release': 961, 'thoughts': 962, 'seemed': 963, 'rich': 964, 'space': 965, 'dumping': 966, 'pumpkin': 967, 'spice': 968, 'latte': 969, 'coffee': 970, 'badly': 971, 'shes': 972, 'hyperchondria': 973, 'exaggeration': 974, 'habit': 975, 'openly': 976, 'questioned': 977, 'clench': 978, 'assured': 979, 'called': 980, 'd': 981, 'figured': 982, 'utterly': 983, 'affirmed': 984, 'question': 985, 'office': 986, 'nice': 987, 'hair': 988, 'rebellious': 989, 'celebrates': 990, 'eid': 991, 'wash': 992, 'generous': 993, 'sleep': 994, 'deprived': 995, 'night': 996, 'giving': 997, 'bloging': 998, 'sitting': 999, 'cat': 1000, 'lucky': 1001, 'woke': 1002, 'sick': 1003, 'dog': 1004, 'protect': 1005, 'witch': 1006, 'hunt': 1007, 'repressed': 1008, 'memory': 1009, 'therapy': 1010, 'disgusted': 1011, 'associated': 1012, 'race': 1013, 'nationality': 1014, 'laughed': 1015, 'bitterly': 1016, 'couldn': 1017, 'wished': 1018, 'knew': 1019, 'hated': 1020, 'mellow': 1021, 'soft': 1022, 'easy': 1023, 'beginning': 1024, 'told': 1025, 'indecisive': 1026, 'does': 1027, 'disservice': 1028, 'resolved': 1029, 'artifically': 1030, 'manitz': 1031, 'draw': 1032, 'circle': 1033, 'bigger': 1034, 'line': 1035, 'accent': 1036, 'mark': 1037, 'spanish': 1038, 'pissed': 1039, 'brazil': 1040, 'bus': 1041, 'steep': 1042, 'hills': 1043, 'middle': 1044, 'big': 1045, 'storm': 1046, 'wondering': 1047, 'whimper': 1048, 'unloved': 1049, 'uncared': 1050, 'certainly': 1051, 'personal': 1052, 'youd': 1053, 'watch': 1054, 'sorry': 1055, 'humor': 1056, 'foot': 1057, 'door': 1058, 'walking': 1059, 'trails': 1060, 'fells': 1061, 'mountains': 1062, 'whatever': 1063, 'comes': 1064, 'directly': 1065, 'jealous': 1066, 'insecure': 1067, 'trust': 1068, 'worthy': 1069, 'sweet': 1070, 'holiday': 1071, 'influenced': 1072, 'dash': 1073, 'happiness': 1074, 'emily': 1075, 'dickinson': 1076, 'example': 1077, 'dashes': 1078, 'instead': 1079, 'semi': 1080, 'enhance': 1081, 'enjambment': 1082, 'sonnet': 1083, 'fatter': 1084, 'remain': 1085, 'control': 1086, 'peanut': 1087, 'butter': 1088, 'bread': 1089, 'impossible': 1090, 'looking': 1091, 'third': 1092, 'hell': 1093, 'neglected': 1094, 'claim': 1095, 'redeem': 1096, 'beating': 1097, 'head': 1098, 'wall': 1099, 'either': 1100, 'classes': 1101, 'intimidated': 1102, 'concept': 1103, 'lit': 1104, 'groggy': 1105, 'routine': 1106, 'view': 1107, 'isnt': 1108, 'thats': 1109, 'fine': 1110, 'hold': 1111, 'shocked': 1112, 'awe': 1113, 'wonder': 1114, 'rumour': 1115, 'st': 1116, 'exam': 1117, 'results': 1118, 'fear': 1119, 'failures': 1120, 'valued': 1121, 'appreciated': 1122, 'arent': 1123, 'anywhere': 1124, 'nature': 1125, 'relationship': 1126, 'changes': 1127, 'regularly': 1128, 'relaxing': 1129, 'music': 1130, 'invigorated': 1131, 'afterward': 1132, 'tend': 1133, 'practice': 1134, 'shut': 1135, 'w': 1136, 'youtube': 1137, 'influences': 1138, 'trends': 1139, 'specifically': 1140, 'tango': 1141, 'shy': 1142, 'maks': 1143, 'opposite': 1144, 'far': 1145, 'pics': 1146, 'lol': 1147, 'weird': 1148, 'slept': 1149, 'hers': 1150, 'okay': 1151, 'earlier': 1152, 'heres': 1153, 'cooped': 1154, 'restless': 1155, 'weight': 1156, 'fit': 1157, 'tiny': 1158, 'unable': 1159, 'presence': 1160, 'fan': 1161, 'current': 1162, 'president': 1163, 'conservative': 1164, 'enclose': 1165, 'verses': 1166, 'weigh': 1167, 'odd': 1168, 'complacent': 1169, 'vulnerable': 1170}\n"
          ]
        }
      ]
    },
    {
      "cell_type": "code",
      "source": [
        "import tensorflow as tf\n",
        "from tensorflow.keras.preprocessing.text import Tokenizer\n",
        "vocab_size = 10000\n",
        "embedding_dim = 16\n",
        "oov_tok = \"<OOV>\"\n",
        "training_size = 20000\n",
        "tokenizer = Tokenizer(num_words=vocab_size, oov_token=oov_tok)\n",
        "tokenizer.fit_on_texts(texts)\n",
        "word_index = tokenizer.word_index\n",
        "print(\"Word Index:\", word_index)\n",
        "sequences = tokenizer.texts_to_sequences(texts)\n",
        "print(\"Sequences:\", sequences)"
      ],
      "metadata": {
        "colab": {
          "base_uri": "https://localhost:8080/"
        },
        "id": "YA9YMld3tgvS",
        "outputId": "427b9302-54f3-4f5f-a22c-41413e3e7d83"
      },
      "execution_count": 14,
      "outputs": [
        {
          "output_type": "stream",
          "name": "stdout",
          "text": [
            "Word Index: {'<OOV>': 1, 'i': 2, 'the': 3, 'to': 4, 'feel': 5, 'and': 6, 'a': 7, 'that': 8, 'feeling': 9, 'of': 10, 'in': 11, 'my': 12, 'was': 13, 'am': 14, 'it': 15, 'me': 16, 'so': 17, 'is': 18, 'have': 19, 'for': 20, 'as': 21, 'be': 22, 'not': 23, 'but': 24, 'with': 25, 'on': 26, 'like': 27, 'this': 28, 'or': 29, 'when': 30, 'im': 31, 'know': 32, 'you': 33, 'because': 34, 't': 35, 'her': 36, 'about': 37, 'get': 38, 'are': 39, 'can': 40, 'just': 41, 'at': 42, 'more': 43, 'from': 44, 'been': 45, 'little': 46, 'if': 47, 'life': 48, 'do': 49, 'an': 50, 'all': 51, 'will': 52, 'make': 53, 'had': 54, 'up': 55, 'he': 56, 'what': 57, 'go': 58, 'who': 59, 'ive': 60, 'also': 61, 'really': 62, 'by': 63, 'need': 64, 'we': 65, 'how': 66, 'going': 67, 'being': 68, 'around': 69, 'still': 70, 'has': 71, 'm': 72, 'think': 73, 'things': 74, 'than': 75, 'its': 76, 's': 77, 'time': 78, 'out': 79, 'then': 80, 'she': 81, 'into': 82, 'very': 83, 'could': 84, 'someone': 85, 'times': 86, 'no': 87, 'pretty': 88, 'now': 89, 'doing': 90, 'love': 91, 'him': 92, 'want': 93, 'bit': 94, 'one': 95, 'their': 96, 'ever': 97, 'year': 98, 'too': 99, 'some': 100, 'feels': 101, 'put': 102, 'anything': 103, 'able': 104, 'morning': 105, 'people': 106, 'few': 107, 'days': 108, 'much': 109, 'never': 110, 'such': 111, 'day': 112, 'them': 113, 'us': 114, 'don': 115, 'wanted': 116, 'here': 117, 'home': 118, 'his': 119, 'there': 120, 'didn': 121, 'even': 122, 'sure': 123, 'made': 124, 'something': 125, 'most': 126, 'started': 127, 'child': 128, 'work': 129, 'god': 130, 'were': 131, 'bitter': 132, 'always': 133, 'needs': 134, 'over': 135, 'remember': 136, 'would': 137, 'safe': 138, 'away': 139, 'book': 140, 'own': 141, 'off': 142, 'while': 143, 'many': 144, 'did': 145, 'first': 146, 'might': 147, 'good': 148, 'they': 149, 'beautiful': 150, 'week': 151, 'feelings': 152, 'excited': 153, 'only': 154, 'again': 155, 'getting': 156, 'wear': 157, 'companion': 158, 'didnt': 159, 'lately': 160, 'wasnt': 161, 'funny': 162, 'possible': 163, 'find': 164, 'let': 165, 'side': 166, 'began': 167, 'every': 168, 'without': 169, 'anyone': 170, 'two': 171, 'help': 172, 'your': 173, 'already': 174, 'though': 175, 'dont': 176, 'person': 177, 'body': 178, 'read': 179, 'couple': 180, 'left': 181, 'where': 182, 'accepted': 183, 'creative': 184, 'myself': 185, 'words': 186, 'stories': 187, 'hope': 188, 'perfect': 189, 'new': 190, 'special': 191, 'tell': 192, 'sad': 193, 'hot': 194, 'selfish': 195, 'look': 196, 'coming': 197, 'loving': 198, 'almost': 199, 'having': 200, 'girls': 201, 'finished': 202, 'back': 203, 'pain': 204, 'miserable': 205, 'family': 206, 'see': 207, 'finding': 208, 'use': 209, 'thought': 210, 'show': 211, 'bed': 212, 'today': 213, 'strange': 214, 'after': 215, 'car': 216, 'say': 217, 'yet': 218, 'eyes': 219, 'quite': 220, 'thing': 221, 'artistic': 222, 'world': 223, 'hopeless': 224, 'awake': 225, 'post': 226, 'greedy': 227, 'wrong': 228, 'property': 229, 'why': 230, 'taking': 231, 'man': 232, 'petronas': 233, 'well': 234, 'mean': 235, 'running': 236, 'experience': 237, 'type': 238, 'point': 239, 'write': 240, 'corners': 241, 'alone': 242, 'reassured': 243, 'each': 244, 'embarrassed': 245, 'dolls': 246, 'skeptical': 247, 'completely': 248, 'overwhelmed': 249, 'form': 250, 'list': 251, 'five': 252, 'grateful': 253, 'amused': 254, 'eat': 255, 'wish': 256, 'our': 257, 'turned': 258, 'elses': 259, 'kinda': 260, 'appalled': 261, 'etc': 262, 'skirt': 263, 'seen': 264, 'heard': 265, 'past': 266, 'frustrated': 267, 'entirely': 268, 'imagine': 269, 'enough': 270, 'sex': 271, 'won': 272, 'content': 273, 'however': 274, 'causing': 275, 'self': 276, 'ask': 277, 'christmas': 278, 'plan': 279, 'share': 280, 'got': 281, 'festive': 282, 'which': 283, 'brave': 284, 'passionate': 285, 'fun': 286, 'discouraged': 287, 'cow': 288, 'lost': 289, 'mind': 290, 'cold': 291, 'gorgeous': 292, 'u': 293, 'under': 294, 'unwelcome': 295, 'ill': 296, 'leave': 297, 'begin': 298, 'fall': 299, 'mom': 300, 'graceful': 301, 'talk': 302, 'brother': 303, 'popular': 304, 'place': 305, 'young': 306, 'amazing': 307, 'prayers': 308, 'others': 309, 'before': 310, 'parents': 311, 'violent': 312, 'emotions': 313, 'these': 314, 'suppose': 315, 'truth': 316, 'clearly': 317, 'ready': 318, 'sit': 319, 'canvas': 320, 'worthwhile': 321, 'honored': 322, 'girl': 323, 'woman': 324, 'piece': 325, 'miss': 326, 'school': 327, 'rushed': 328, 'happy': 329, 'horses': 330, 'quiet': 331, 'handled': 332, 'start': 333, 'done': 334, 'realize': 335, 'those': 336, 'terrified': 337, 'meet': 338, 'supportive': 339, 'arms': 340, 'mood': 341, 'passed': 342, 'flying': 343, 'dogs': 344, 'cannot': 345, 'understand': 346, 'should': 347, 'hear': 348, 'associations': 349, 'crying': 350, 'short': 351, 'months': 352, 'catching': 353, 'helps': 354, 'hard': 355, 'high': 356, 'wushu': 357, 'kids': 358, 'whether': 359, 'friend': 360, 'down': 361, 'street': 362, 'stranger': 363, 'soon': 364, 'alright': 365, 'pair': 366, 'fabulous': 367, 'until': 368, 'friday': 369, 'lonely': 370, 'blog': 371, 'son': 372, 'fantastic': 373, 'confident': 374, 'other': 375, 'through': 376, 'last': 377, 'maybe': 378, 'right': 379, 'name': 380, 'perhaps': 381, 'sleeping': 382, 'amp': 383, 'against': 384, 'forever': 385, 'genre': 386, 'dot': 387, 'mountain': 388, 'whats': 389, 'curious': 390, 'colons': 391, 'needy': 392, 'distracted': 393, 'thinking': 394, 'humiliated': 395, 'damned': 396, 'hopeful': 397, 'cares': 398, 'grabbing': 399, 'minute': 400, 'nostalgic': 401, 'fireplace': 402, 'grouchy': 403, 'burdened': 404, 'milligrams': 405, 'recommended': 406, 'amount': 407, 'fallen': 408, 'asleep': 409, 'lot': 410, 'faster': 411, 'confused': 412, 'teenager': 413, 'jaded': 414, 'old': 415, 'years': 416, 'performed': 417, 'huge': 418, 'profit': 419, 'romantic': 420, 'suffering': 421, 'seeing': 422, 'divine': 423, 'expect': 424, 'spiritual': 425, 'encounter': 426, 'easiest': 427, 'dissatisfied': 428, 'low': 429, 'energy': 430, 'thirsty': 431, 'immense': 432, 'sympathy': 433, 'general': 434, 'proto': 435, 'writer': 436, 'trying': 437, 'sign': 438, 'agent': 439, 'publishing': 440, 'contract': 441, 'precious': 442, 'anxiety': 443, 'pathetic': 444, 'sentimental': 445, 'collection': 446, 'vintage': 447, 'barbie': 448, 'sixties': 449, 'compromised': 450, 'value': 451, 'unit': 452, 'irritated': 453, 'rejected': 454, 'saying': 455, 'strategies': 456, 'grounded': 457, 'pour': 458, 'heart': 459, 'journal': 460, 'letter': 461, 'end': 462, 'delighted': 463, 'chai': 464, 'lifeline': 465, 'support': 466, 'encouragement': 467, 'great': 468, 'glad': 469, 'fucked': 470, 'usually': 471, 'best': 472, 'longer': 473, 'tolerate': 474, 'effect': 475, 'bm': 476, 'lives': 477, 'fact': 478, 'angry': 479, 'particularly': 480, 'kind': 481, 'stressed': 482, 'inhibited': 483, 'kitchen': 484, 'painting': 485, 'picture': 486, 'become': 487, 'defeated': 488, 'explain': 489, 'wide': 490, 'lenghth': 491, 'measures': 492, 'pp': 493, 'superior': 494, 'dead': 495, 'chicken': 496, 'grieving': 497, 'giddy': 498, 'elegant': 499, 'perfectly': 500, 'fitted': 501, 'pencil': 502, 'acutely': 503, 'distressed': 504, 'impressed': 505, 'companies': 506, 'climbed': 507, 'hill': 508, 'id': 509, 'paced': 510, 'course': 511, 'factor': 512, 'hampered': 513, 'dent': 514, 'real': 515, 'scenario': 516, 'emotionally': 517, 'connected': 518, 'totally': 519, 'morally': 520, 'acceptable': 521, 'close': 522, 'prolonged': 523, 'physical': 524, 'contact': 525, 'expected': 526, 'subsequently': 527, 'less': 528, 'splendid': 529, 'step': 530, 'rude': 531, 'writing': 532, 'elderly': 533, 'gentleman': 534, 'gifts': 535, 'mild': 536, 'greed': 537, 'protected': 538, 'small': 539, 'season': 540, 'everyday': 541, 'traveling': 542, 'adventures': 543, 'inspirations': 544, 'handmade': 545, 'creations': 546, 'inspired': 547, 'trees': 548, 'spurring': 549, 'worn': 550, 'once': 551, 'concealer': 552, 'pale': 553, 'strongly': 554, 'jerk': 555, 'decides': 556, 'poke': 557, 'robbing': 558, 'peter': 559, 'pay': 560, 'paul': 561, 'cant': 562, 'afford': 563, 'way': 564, 'listless': 565, 'different': 566, 'worry': 567, 'sane': 568, 'felt': 569, 'reading': 570, 'said': 571, 'sam': 572, 'guarantee': 573, 'used': 574, 'paragraph': 575, 'mine': 576, 'boat': 577, 'trip': 578, 'denmark': 579, 'stopped': 580, 'dough': 581, 'found': 582, 'spoiled': 583, 'stymied': 584, 'wrote': 585, 'unsure': 586, 'somewhere': 587, 'story': 588, 'unintended': 589, 'bag': 590, 'qaf': 591, 'cryin': 592, 'jacynthe': 593, 'lookin': 594, 'feelin': 595, 'rupaul': 596, 'skins': 597, 'scissor': 598, 'sisters': 599, 'valentine': 600, 'sun': 601, 'fed': 602, 'kayle': 603, 'daddy': 604, 'gerling': 605, 'unkind': 606, 'basically': 607, 'fake': 608, 'realm': 609, 'science': 610, 'fiction': 611, 'hate': 612, 'living': 613, 'dads': 614, 'roof': 615, 'gives': 616, 'excuse': 617, 'asshole': 618, 'hes': 619, 'providing': 620, 'live': 621, 'keep': 622, 'pleasantly': 623, 'surprised': 624, 'supportiveness': 625, 'ease': 626, 'situations': 627, 'anymore': 628, 'vigorous': 629, 'sexual': 630, 'activity': 631, 'yes': 632, 'misspelt': 633, 'cumming': 634, 'parts': 635, 'warm': 636, 'smile': 637, 'rob': 638, 'nurture': 639, 'heal': 640, 'law': 641, 'extremely': 642, 'stiff': 643, 'ate': 644, 'gentle': 645, 'tingle': 646, 'throughout': 647, 'healing': 648, 'cellular': 649, 'level': 650, 'pressured': 651, 'thin': 652, 'depending': 653, 'trend': 654, 'rejuvenated': 655, 'butt': 656, 'implants': 657, 'several': 658, 'tortured': 659, 'hallucinations': 660, 'moving': 661, 'figures': 662, 'sounds': 663, 'vibrations': 664, 'nearly': 665, 'detox': 666, 'former': 667, 'posts': 668, 'asked': 669, 'considered': 670, 'may': 671, 'deserve': 672, 'answered': 673, 'enraged': 674, 'becomes': 675, 'roller': 676, 'coaster': 677, 'supposed': 678, 'unpleasant': 679, 'shared': 680, 'havent': 681, 'faithful': 682, 'dwelled': 683, 'doubt': 684, 'uncertainty': 685, 'faith': 686, 'bought': 687, 'makeup': 688, 'c': 689, 'proudest': 690, 'mum': 691, 'earth': 692, 'figure': 693, 'loves': 694, 'matter': 695, 'else': 696, 'michelle': 697, 'goes': 698, 'ballistic': 699, 'necessarily': 700, 'f': 701, 'bombs': 702, 'necessary': 703, 'print': 704, 'journals': 705, 'ovaries': 706, 'aching': 707, 'talking': 708, 'chris': 709, 'mostly': 710, 'took': 711, 'pictures': 712, 'unimportant': 713, 'stuff': 714, 'tired': 715, 'given': 716, 'unsuitable': 717, 'images': 718, 'blamed': 719, 'result': 720, 'successfully': 721, 'manage': 722, 'stretch': 723, 'mxm': 724, 'achievement': 725, 'itself': 726, 'usage': 727, 'money': 728, 'future': 729, 'briefs': 730, 'nay': 731, 'important': 732, 'influence': 733, 'talented': 734, 'fully': 735, 'alive': 736, 'angered': 737, 'firey': 738, 'garbage': 739, 'leanne': 740, 'drove': 741, 'dannika': 742, 'greeted': 743, 'corner': 744, 'hellip': 745, 'furious': 746, 'shooter': 747, 'since': 748, 'learned': 749, 'shows': 750, 'trusting': 751, 'relaxed': 752, 'frequently': 753, 'december': 754, 'smug': 755, 'everything': 756, 'ok': 757, 'worthless': 758, 'during': 759, 'struggling': 760, 'lay': 761, 'dark': 762, 'least': 763, 'airport': 764, 'entire': 765, 'guess': 766, 'mums': 767, 'involved': 768, 'accident': 769, 'bringing': 770, 'present': 771, 'exams': 772, 'colours': 773, 'letting': 774, 'animosity': 775, 'towards': 776, 'wronged': 777, 'decided': 778, 'throwing': 779, 'shitty': 780, 'shit': 781, 'paper': 782, 'starting': 783, 'wryly': 784, 'banal': 785, 'comedy': 786, 'errors': 787, 'turning': 788, 'vital': 789, 'bodies': 790, 'owners': 791, 'victimized': 792, 'attorneys': 793, 'manager': 794, 'goodbye': 795, 'fam': 796, 'theyre': 797, 'heartless': 798, 'bitch': 799, 'hey': 800, 'spend': 801, 'another': 802, 'country': 803, 'wont': 804, 'cry': 805, 'lily': 806, 'opportunities': 807, 'lasted': 808, 'alba': 809, 'fitting': 810, 'ton': 811, 'word': 812, 'works': 813, 'obtain': 814, 'technical': 815, 'skill': 816, 'ashamed': 817, 'somehow': 818, 'motivated': 819, 'saw': 820, 'performances': 821, 'whole': 822, 'heartedly': 823, 'despite': 824, 'tiredness': 825, 'overwhelming': 826, 'spritz': 827, 'toner': 828, 'calm': 829, 'soothe': 830, 'effort': 831, 'required': 832, 'better': 833, 'themselves': 834, 'situation': 835, 'member': 836, 'college': 837, 'neighbor': 838, 'complete': 839, 'tree': 840, 've': 841, 'goings': 842, 'ons': 843, 'coronation': 844, 'seriously': 845, 'class': 846, 'combination': 847, 'unsuccessful': 848, 'stress': 849, 'late': 850, 'horrible': 851, 'resulted': 852, 'grappling': 853, 'rarely': 854, 'advances': 855, 'any': 856, 'cause': 857, 'stick': 858, 'rule': 859, 'posting': 860, 'online': 861, 'wouldnt': 862, 'prepared': 863, 'somebodys': 864, 'face': 865, 'useful': 866, 'pains': 867, 'becoming': 868, 'group': 869, 'idea': 870, 'ugly': 871, 'inclined': 872, 'ratty': 873, 'jeans': 874, 'sweatshirt': 875, 'dress': 876, 'heels': 877, 'house': 878, 'boost': 879, 'esteem': 880, 'slightly': 881, 'definitely': 882, 'bother': 883, 'buy': 884, 'homesick': 885, 'dance': 886, 'workout': 887, 'touch': 888, 'assuredly': 889, 'return': 890, 'shall': 891, 'vain': 892, 'awful': 893, 'cramps': 894, 'honoured': 895, 'call': 896, 'friends': 897, 'brotherhood': 898, 'begun': 899, 'apprehensive': 900, 'thick': 901, 'black': 902, 'rain': 903, 'clouds': 904, 'stormed': 905, 'sky': 906, 'above': 907, 'town': 908, 'stated': 909, 'reason': 910, 'fearful': 911, 'unsafe': 912, 'shaken': 913, 'tsa': 914, 'pulled': 915, 'croissants': 916, 'lunch': 917, 'groups': 918, 'awkward': 919, 'overcompensate': 920, 'talkative': 921, 'finally': 922, 'especially': 923, 'disappoint': 924, 'loved': 925, 'img': 926, 'src': 927, 'http': 928, 'eager': 929, 'quilting': 930, 'horny': 931, 'lets': 932, 'poem': 933, 'doesn': 934, 'pressure': 935, 'uncomfortable': 936, 'sense': 937, 'understanding': 938, 'land': 939, 'raising': 940, 'father': 941, 'ancestral': 942, 'shower': 943, 'questioning': 944, 'movement': 945, 'effortlessly': 946, 'energetic': 947, 'bouncy': 948, 'gym': 949, 'run': 950, 'outside': 951, 'take': 952, 'pram': 953, 'long': 954, 'walk': 955, 'often': 956, 'three': 957, 'strong': 958, 'burst': 959, 'tears': 960, 'devastating': 961, 'release': 962, 'thoughts': 963, 'seemed': 964, 'rich': 965, 'space': 966, 'dumping': 967, 'pumpkin': 968, 'spice': 969, 'latte': 970, 'coffee': 971, 'badly': 972, 'shes': 973, 'hyperchondria': 974, 'exaggeration': 975, 'habit': 976, 'openly': 977, 'questioned': 978, 'clench': 979, 'assured': 980, 'called': 981, 'd': 982, 'figured': 983, 'utterly': 984, 'affirmed': 985, 'question': 986, 'office': 987, 'nice': 988, 'hair': 989, 'rebellious': 990, 'celebrates': 991, 'eid': 992, 'wash': 993, 'generous': 994, 'sleep': 995, 'deprived': 996, 'night': 997, 'giving': 998, 'bloging': 999, 'sitting': 1000, 'cat': 1001, 'lucky': 1002, 'woke': 1003, 'sick': 1004, 'dog': 1005, 'protect': 1006, 'witch': 1007, 'hunt': 1008, 'repressed': 1009, 'memory': 1010, 'therapy': 1011, 'disgusted': 1012, 'associated': 1013, 'race': 1014, 'nationality': 1015, 'laughed': 1016, 'bitterly': 1017, 'couldn': 1018, 'wished': 1019, 'knew': 1020, 'hated': 1021, 'mellow': 1022, 'soft': 1023, 'easy': 1024, 'beginning': 1025, 'told': 1026, 'indecisive': 1027, 'does': 1028, 'disservice': 1029, 'resolved': 1030, 'artifically': 1031, 'manitz': 1032, 'draw': 1033, 'circle': 1034, 'bigger': 1035, 'line': 1036, 'accent': 1037, 'mark': 1038, 'spanish': 1039, 'pissed': 1040, 'brazil': 1041, 'bus': 1042, 'steep': 1043, 'hills': 1044, 'middle': 1045, 'big': 1046, 'storm': 1047, 'wondering': 1048, 'whimper': 1049, 'unloved': 1050, 'uncared': 1051, 'certainly': 1052, 'personal': 1053, 'youd': 1054, 'watch': 1055, 'sorry': 1056, 'humor': 1057, 'foot': 1058, 'door': 1059, 'walking': 1060, 'trails': 1061, 'fells': 1062, 'mountains': 1063, 'whatever': 1064, 'comes': 1065, 'directly': 1066, 'jealous': 1067, 'insecure': 1068, 'trust': 1069, 'worthy': 1070, 'sweet': 1071, 'holiday': 1072, 'influenced': 1073, 'dash': 1074, 'happiness': 1075, 'emily': 1076, 'dickinson': 1077, 'example': 1078, 'dashes': 1079, 'instead': 1080, 'semi': 1081, 'enhance': 1082, 'enjambment': 1083, 'sonnet': 1084, 'fatter': 1085, 'remain': 1086, 'control': 1087, 'peanut': 1088, 'butter': 1089, 'bread': 1090, 'impossible': 1091, 'looking': 1092, 'third': 1093, 'hell': 1094, 'neglected': 1095, 'claim': 1096, 'redeem': 1097, 'beating': 1098, 'head': 1099, 'wall': 1100, 'either': 1101, 'classes': 1102, 'intimidated': 1103, 'concept': 1104, 'lit': 1105, 'groggy': 1106, 'routine': 1107, 'view': 1108, 'isnt': 1109, 'thats': 1110, 'fine': 1111, 'hold': 1112, 'shocked': 1113, 'awe': 1114, 'wonder': 1115, 'rumour': 1116, 'st': 1117, 'exam': 1118, 'results': 1119, 'fear': 1120, 'failures': 1121, 'valued': 1122, 'appreciated': 1123, 'arent': 1124, 'anywhere': 1125, 'nature': 1126, 'relationship': 1127, 'changes': 1128, 'regularly': 1129, 'relaxing': 1130, 'music': 1131, 'invigorated': 1132, 'afterward': 1133, 'tend': 1134, 'practice': 1135, 'shut': 1136, 'w': 1137, 'youtube': 1138, 'influences': 1139, 'trends': 1140, 'specifically': 1141, 'tango': 1142, 'shy': 1143, 'maks': 1144, 'opposite': 1145, 'far': 1146, 'pics': 1147, 'lol': 1148, 'weird': 1149, 'slept': 1150, 'hers': 1151, 'okay': 1152, 'earlier': 1153, 'heres': 1154, 'cooped': 1155, 'restless': 1156, 'weight': 1157, 'fit': 1158, 'tiny': 1159, 'unable': 1160, 'presence': 1161, 'fan': 1162, 'current': 1163, 'president': 1164, 'conservative': 1165, 'enclose': 1166, 'verses': 1167, 'weigh': 1168, 'odd': 1169, 'complacent': 1170, 'vulnerable': 1171}\n",
            "Sequences: [[2, 159, 5, 395], [2, 40, 58, 44, 9, 17, 224, 4, 17, 396, 397, 41, 44, 68, 69, 85, 59, 398, 6, 18, 225], [31, 399, 7, 400, 4, 226, 2, 5, 227, 228], [2, 14, 97, 9, 401, 37, 3, 402, 2, 52, 32, 8, 15, 18, 70, 26, 3, 229], [2, 14, 9, 403], [60, 45, 9, 7, 46, 404, 160, 161, 123, 230, 8, 13], [60, 45, 231, 29, 405, 29, 86, 406, 407, 6, 60, 408, 409, 7, 410, 411, 24, 2, 61, 5, 27, 17, 162], [2, 5, 21, 412, 37, 48, 21, 7, 413, 29, 21, 414, 21, 7, 98, 415, 232], [2, 19, 45, 25, 233, 20, 416, 2, 5, 8, 233, 71, 417, 234, 6, 124, 7, 418, 419], [2, 5, 420, 99], [2, 5, 27, 2, 19, 4, 53, 3, 421, 2, 72, 422, 235, 125], [2, 49, 5, 8, 236, 18, 7, 423, 237, 6, 8, 2, 40, 424, 4, 19, 100, 238, 10, 425, 426], [2, 73, 15, 77, 3, 427, 78, 10, 98, 4, 5, 428], [2, 5, 429, 430, 2, 72, 41, 431], [2, 19, 432, 433, 25, 3, 434, 239, 24, 21, 7, 163, 435, 436, 437, 4, 164, 78, 4, 240, 11, 3, 241, 10, 48, 6, 25, 87, 438, 10, 50, 439, 165, 242, 7, 440, 441, 28, 101, 7, 46, 442], [2, 49, 23, 5, 243, 443, 18, 26, 244, 166], [2, 159, 62, 5, 8, 245], [2, 5, 88, 444, 126, 10, 3, 78], [2, 127, 9, 445, 37, 246, 2, 54, 21, 7, 128, 6, 17, 167, 7, 446, 10, 447, 448, 246, 44, 3, 449], [2, 89, 5, 450, 6, 247, 10, 3, 451, 10, 168, 452, 10, 129, 2, 102, 11], [2, 5, 453, 6, 454, 169, 170, 90, 103, 29, 455, 103], [2, 14, 9, 248, 249, 2, 19, 171, 456, 8, 172, 16, 4, 5, 457, 458, 12, 459, 79, 11, 12, 460, 11, 3, 250, 10, 7, 461, 4, 130, 6, 80, 462, 25, 7, 251, 10, 252, 74, 2, 14, 126, 253, 20], [2, 19, 3, 9, 81, 13, 254, 6, 463], [2, 13, 104, 4, 172, 464, 465, 25, 173, 466, 6, 467, 18, 7, 468, 9, 6, 2, 14, 17, 469, 33, 131, 104, 4, 172, 16], [2, 174, 5, 27, 2, 470, 55, 175, 34, 2, 176, 471, 255, 42, 51, 11, 3, 105], [2, 70, 91, 12, 17, 6, 256, 3, 472, 20, 92, 2, 40, 87, 473, 474, 3, 475, 8, 476, 71, 26, 257, 477, 6, 3, 478, 8, 18, 71, 258, 12, 17, 82, 7, 132, 479, 177, 59, 18, 23, 133, 480, 481, 4, 3, 106, 69, 92, 30, 56, 18, 9, 482], [2, 5, 17, 483, 11, 85, 259, 484, 27, 31, 485, 26, 85, 259, 486], [2, 487, 249, 6, 5, 488], [2, 5, 260, 261, 8, 81, 101, 27, 81, 134, 4, 489, 11, 490, 6, 491, 36, 178, 492, 262, 493], [2, 5, 43, 494, 495, 496, 29, 497, 128], [2, 38, 498, 135, 9, 499, 11, 7, 500, 501, 502, 263], [2, 136, 9, 503, 504, 20, 7, 107, 108], [2, 19, 264, 265, 6, 179, 135, 3, 266, 180, 10, 108, 2, 14, 181, 9, 505, 63, 43, 75, 7, 107, 506], [2, 507, 3, 508, 9, 267, 8, 509, 88, 109, 510, 268, 228, 20, 28, 511, 6, 8, 7, 512, 8, 71, 110, 97, 513, 16, 54, 124, 111, 7, 514, 11, 3, 112], [2, 40, 35, 269, 7, 515, 48, 516, 182, 2, 137, 22, 517, 518, 270, 25, 85, 4, 5, 519, 183, 6, 138, 182, 15, 15, 520, 521, 20, 16, 4, 19, 522, 6, 523, 524, 525, 6, 182, 271, 272, 35, 22, 526, 527], [2, 14, 23, 123, 57, 137, 53, 16, 5, 273, 47, 103], [2, 19, 45, 9, 3, 64, 4, 22, 184], [2, 49, 274, 93, 33, 4, 32, 8, 47, 125, 85, 18, 275, 33, 4, 5, 528, 80, 173, 529, 276, 530, 139, 44, 113], [2, 5, 7, 94, 531, 532, 4, 50, 533, 534, 4, 277, 20, 535, 34, 2, 5, 7, 94, 227, 24, 57, 18, 278, 37, 47, 23, 536, 537], [2, 64, 33, 2, 64, 85, 2, 64, 4, 22, 538, 6, 5, 138, 2, 14, 539, 89, 2, 164, 185, 11, 7, 540, 10, 87, 186], [2, 279, 4, 280, 12, 541, 48, 187, 542, 543, 544, 6, 545, 546, 25, 33, 6, 188, 33, 52, 61, 5, 547], [2, 174, 19, 12, 278, 548, 55, 2, 281, 171, 6, 14, 9, 282, 283, 2, 72, 123, 18, 549, 16, 4, 38, 127, 26, 28, 140], [60, 550, 15, 551, 26, 76, 141, 25, 7, 46, 552, 6, 20, 3, 108, 31, 9, 284, 24, 176, 93, 4, 22, 553, 80, 76, 189], [2, 5, 83, 554, 285, 37, 30, 100, 555, 142, 556, 4, 557, 6, 53, 286, 10, 114], [2, 13, 9, 17, 287, 65, 39, 174, 558, 559, 4, 560, 561, 4, 38, 257, 288, 28, 98, 24, 65, 562, 563, 4, 23, 38, 3, 288, 28, 564], [2, 13, 9, 565, 44, 3, 64, 10, 190, 74, 125, 566], [2, 289, 12, 191, 290, 24, 115, 35, 567, 2, 72, 70, 568, 2, 41, 116, 33, 4, 5, 57, 2, 569, 143, 570, 28, 140, 2, 115, 35, 32, 66, 144, 86, 15, 13, 571, 8, 572, 13, 191, 24, 2, 40, 573, 33, 15, 13, 144, 43, 86, 75, 57, 2, 574, 11, 8, 575, 145, 2, 192, 33, 81, 13, 191], [2, 40, 35, 165, 58, 10, 8, 193, 9, 8, 2, 93, 4, 22, 183, 117, 11, 28, 146, 118, 10, 576], [26, 7, 577, 578, 4, 579], [2, 580, 9, 291, 6, 167, 9, 194], [2, 64, 4, 5, 3, 581, 4, 53, 123, 76, 41, 189], [2, 582, 185, 9, 7, 46, 287, 8, 105], [2, 5, 195, 6, 583], [2, 13, 584, 7, 46, 94, 21, 2, 585, 9, 586, 8, 2, 147, 58, 587, 25, 3, 588, 589], [2, 590, 591, 196, 59, 77, 592, 89, 593, 594, 148, 595, 292, 596, 3, 597, 598, 599, 600, 3, 601, 602, 55, 603, 59, 77, 173, 604, 605, 225, 3, 606, 293], [2, 5, 33, 32, 607, 27, 7, 608, 11, 3, 609, 10, 610, 611], [2, 612, 613, 294, 12, 614, 615, 34, 15, 616, 92, 50, 617, 4, 22, 50, 618, 4, 16, 34, 619, 620, 20, 16, 4, 621, 117, 2, 73, 56, 101, 8, 56, 134, 4, 53, 16, 5, 21, 295, 21, 163, 17, 296, 297], [2, 622, 9, 623, 624, 42, 119, 625, 6, 61, 119, 626, 11, 190, 627], [2, 19, 28, 9, 8, 47, 2, 19, 628, 629, 630, 631, 11, 3, 197, 632, 2, 633, 8, 21, 634, 108, 635, 10, 16, 52, 298, 4, 299, 142], [2, 5, 12, 300, 77, 301, 636, 198, 637, 21, 2, 638, 3, 78, 4, 639, 185, 6, 640], [2, 5, 11, 149, 302, 3, 303, 11, 641, 18, 642, 304, 3, 95, 8, 54, 87, 16, 4, 73, 18, 17, 643], [2, 644, 2, 84, 5, 7, 645, 646, 647, 199, 21, 47, 2, 13, 9, 3, 648, 231, 305, 42, 7, 649, 650], [2, 5, 27, 65, 39, 651, 82, 68, 306, 150, 652, 6, 653, 26, 3, 654, 200, 3, 201, 655, 29, 656, 657], [2, 167, 200, 113, 658, 86, 7, 151, 9, 659, 63, 3, 660, 661, 106, 6, 662, 663, 6, 664], [2, 14, 89, 665, 202, 3, 151, 666, 6, 2, 5, 307], [2, 5, 195, 21, 2, 179, 203, 4, 12, 667, 668, 66, 2, 19, 110, 669, 20, 308, 20, 309, 66, 2, 110, 670, 8, 120, 671, 22, 309, 79, 120, 8, 672, 96, 308, 673, 310, 12, 141], [2, 32, 3, 204, 311, 5, 30, 50, 674, 128, 675, 312], [2, 19, 45, 26, 7, 676, 677, 10, 313, 135, 314, 678, 152, 8, 125, 679, 13, 197], [2, 315, 12, 141, 316, 134, 4, 22, 680, 2, 681, 45, 9, 83, 682, 160, 60, 683, 43, 11, 684, 6, 685, 75, 2, 19, 11, 686], [2, 13, 9, 284, 30, 2, 687, 15, 6, 317, 30, 2, 13, 90, 12, 688], [2, 14, 9, 205, 24, 689, 2, 14, 61, 3, 690, 691, 26, 692], [2, 693, 12, 206, 694, 114, 87, 695, 57, 24, 69, 170, 696, 2, 5, 245, 30, 697, 698, 699], [2, 115, 35, 700, 73, 701, 702, 6, 271, 39, 703, 11, 51, 187, 24, 2, 5, 243, 30, 2, 207, 113, 11, 704, 705], [2, 40, 5, 12, 706, 707, 708, 4, 16, 21, 2, 27, 4, 102, 15], [2, 121, 35, 5, 27, 90, 109, 709, 6, 2, 710, 41, 711, 99, 144, 712, 10, 713, 714], [31, 715, 10, 3, 140, 6, 318, 4, 19, 15, 79, 10, 117, 6, 208, 79, 8, 2, 13, 716, 717, 718, 6, 80, 9, 719, 20, 3, 720, 145, 23, 319, 234], [2, 145, 721, 722, 4, 723, 7, 724, 320, 2, 5, 8, 28, 18, 50, 725, 11, 726, 20, 16, 6, 13, 7, 321, 727, 10, 12, 728, 6, 78, 2, 52, 209, 3, 320, 20, 729, 730], [2, 73, 152, 39, 95, 10, 731, 3, 126, 732, 74, 65, 19], [2, 5, 248, 322, 4, 22, 50, 733, 4, 28, 306, 734, 735, 736, 150, 323, 324], [2, 5, 737, 6, 738], [2, 5, 27, 7, 205, 325, 10, 739], [2, 5, 27, 2, 64, 4, 53, 7, 251, 740, 137, 22, 261, 42, 3, 210, 17, 8, 2, 176, 326, 103], [2, 741, 742, 4, 327, 2, 13, 9, 7, 46, 94, 328, 6, 28, 18, 57, 743, 16, 21, 2, 258, 3, 744], [2, 136, 9, 17, 745, 746, 25, 3, 747], [2, 5, 83, 329, 6, 153, 748, 2, 749, 17, 144, 74], [2, 5, 8, 42, 750, 6, 69, 211, 330, 106, 39, 751, 6, 752, 34, 126, 211, 330, 39, 138, 6, 331, 6, 39, 332, 753], [2, 154, 19, 7, 180, 10, 74, 181, 4, 53, 6, 42, 3, 333, 10, 754, 2, 14, 334, 6, 9, 755], [2, 73, 37, 66, 293, 84, 53, 16, 5, 6, 335, 8, 756, 52, 22, 757], [2, 5, 17, 758, 759, 336, 86, 2, 13, 760, 208, 129], [2, 52, 22, 104, 4, 761, 26, 12, 212, 11, 3, 762, 6, 23, 5, 337, 42, 763, 20, 7, 143], [2, 13, 318, 4, 338, 300, 11, 3, 764, 6, 5, 36, 97, 339, 340, 69, 16], [31, 9, 132, 213, 12, 341, 71, 45, 214, 3, 765, 112, 17, 2, 766, 76, 8], [30, 12, 767, 303, 342, 139, 215, 200, 45, 768, 11, 7, 216, 769, 56, 13, 770, 16, 7, 771, 21, 2, 54, 342, 12, 250, 252, 772, 25, 343, 773], [2, 14, 774, 58, 10, 3, 775, 8, 18, 776, 170, 8, 2, 5, 71, 777, 16], [2, 302, 4, 344, 21, 2, 5, 149, 345, 346, 186, 24, 149, 40, 179, 313, 6, 32, 66, 4, 22, 339, 2, 778, 2, 347, 58, 118], [2, 5, 27, 779, 139, 3, 780, 325, 10, 781, 782], [31, 783, 4, 5, 784, 254, 42, 3, 785, 786, 10, 787, 12, 48, 18, 788, 82], [2, 164, 168, 178, 150, 6, 154, 93, 106, 4, 5, 789, 11, 96, 790], [2, 348, 39, 791, 59, 5, 792, 63, 96, 349, 3, 349, 793, 29, 3, 229, 794], [2, 217, 795, 4, 3, 796, 797, 51, 193, 7, 350, 6, 2, 5, 27, 7, 798, 799, 34, 800, 31, 88, 153, 4, 22, 343, 20, 3, 146, 78, 6, 33, 32, 61, 4, 801, 7, 98, 11, 802, 803], [2, 804, 165, 16, 128, 805, 15, 79, 34, 2, 5, 8, 198, 36, 6, 806, 30, 81, 13, 46, 13, 67, 4, 22, 807, 8, 154, 808, 20, 336, 351, 107, 352], [2, 809, 2, 5, 148, 6, 31, 810, 11], [2, 5, 153, 37, 57, 31, 90, 155, 2, 5, 27, 2, 19, 7, 811, 10, 353, 55, 4, 49], [2, 61, 32, 66, 148, 15, 101, 4, 196, 203, 6, 207, 8, 2, 322, 12, 812, 6, 8, 354, 44, 3, 333], [2, 235, 62, 62, 355, 813, 4, 814, 111, 7, 356, 815, 816, 11, 357, 5, 260, 817, 24, 818, 819, 30, 2, 820, 358, 90, 357, 821, 822, 823, 824, 96, 825], [2, 5, 27, 74, 39, 156, 7, 46, 826, 7, 107, 827, 10, 28, 828, 62, 354, 829, 6, 830, 16], [2, 188, 8, 33, 335, 66, 111, 46, 831, 18, 832, 4, 53, 7, 177, 5, 833, 37, 834, 29, 96, 835, 359, 76, 16, 7, 206, 836, 7, 837, 29, 356, 327, 360, 7, 838, 361, 3, 362, 29, 122, 7, 839, 363], [2, 14, 9, 17, 282, 213, 8, 2, 72, 122, 67, 4, 102, 3, 840, 55, 21, 364, 21, 2, 841, 202, 90, 28, 6, 353, 55, 25, 3, 151, 77, 842, 843, 26, 844, 362], [208, 79, 8, 2, 14, 23, 296, 23, 845], [2, 145, 365, 11, 846, 24, 7, 847, 10, 9, 848, 68, 232, 332, 3, 849, 10, 850, 6, 12, 851, 151, 852, 11, 12, 199, 350, 215, 2, 202, 853], [2, 5, 15, 854, 855, 856, 321, 857, 6, 2, 133, 858, 4, 3, 859, 10, 23, 860, 103, 861, 8, 2, 862, 22, 863, 4, 217, 4, 864, 865], [2, 14, 9, 51, 866], [2, 5, 27, 100, 10, 33, 19, 867, 6, 33, 345, 269, 868, 285, 37, 3, 869, 29, 3, 870, 8, 18, 275, 204], [2, 5, 871, 2, 72, 43, 872, 4, 157, 873, 874, 6, 7, 875, 75, 7, 150, 876, 175, 2, 147, 70, 157, 7, 366, 10, 877, 69, 12, 878, 4, 879, 12, 276, 880, 97, 17, 881, 24, 2, 882, 272, 35, 883, 4, 884, 7, 190, 366], [31, 23, 9, 885, 218, 17, 31, 9, 365, 37, 28], [2, 886, 2, 347, 5, 88], [2, 887, 168, 105, 310, 6, 5, 367, 20, 15], [2, 5, 51, 10, 28, 41, 44, 36, 219, 23, 44, 36, 888, 29, 44, 36, 186, 24, 44, 36, 219, 2, 32, 8, 2, 40, 889, 890, 28, 91, 6, 32, 8, 15, 891, 23, 22, 11, 892], [2, 13, 9, 367, 368, 369, 105, 30, 2, 127, 4, 38, 314, 893, 894, 42, 129], [2, 5, 895, 4, 19, 45, 104, 4, 896, 113, 897, 4, 280, 96, 898], [2, 54, 899, 4, 5, 900, 30, 901, 902, 903, 904, 905, 82, 3, 906, 907, 908], [2, 54, 909, 4, 36, 3, 910, 2, 5, 17, 911, 18, 34, 2, 5, 912], [2, 121, 35, 5, 27, 156, 913, 361, 63, 3, 914, 220, 218, 17, 2, 915, 142, 4, 3, 166, 42, 184, 916, 20, 7, 917], [2, 38, 82, 918, 2, 5, 62, 919, 6, 920, 63, 68, 99, 921, 29, 63, 156, 62, 331], [2, 14, 83, 153, 4, 922, 338, 8, 158, 8, 158, 59, 52, 22, 25, 16, 42, 51, 86, 923, 30, 2, 14, 370, 83, 370, 8, 158, 59, 52, 110, 924, 16, 8, 158, 59, 52, 102, 119, 340, 69, 16, 6, 53, 16, 5, 925], [2, 5, 149, 39, 88, 138, 26, 12, 371, 926, 927, 928, 77], [2, 5, 88, 929, 4, 38, 15, 334, 21, 2, 19, 7, 286, 279, 20, 930, 15], [2, 14, 9, 931, 17, 2, 277, 36, 8, 932, 58, 118], [2, 73, 47, 7, 933, 934, 35, 102, 935, 26, 16, 2, 115, 35, 5, 936, 11, 3, 937, 10, 9, 43, 75, 2, 40, 5, 938, 43, 75, 2, 40, 346, 198, 43, 75, 2, 14, 104, 4, 22, 11, 91], [2, 99, 5, 21, 47, 2, 14, 7, 363, 11, 7, 214, 939, 6, 2, 14, 940, 12, 372, 11, 7, 305, 8, 18, 23, 119, 941, 77, 942, 118], [2, 181, 4, 3, 943, 944, 57, 2, 5, 81, 13, 292, 111, 7, 373, 178, 17, 374, 11, 36, 945, 946, 301], [2, 5, 947, 6, 948, 2, 72, 43, 75, 329, 4, 58, 4, 3, 949, 950, 69, 951, 25, 12, 358, 29, 952, 3, 953, 20, 7, 954, 955, 956, 2, 49, 51, 957, 11, 95, 112], [2, 13, 70, 9, 958], [2, 121, 35, 959, 82, 960, 29, 100, 375, 961, 962, 10, 152, 29, 963, 34, 2, 964, 4, 32, 8, 965, 61, 54, 4, 58, 376, 119, 141, 966, 169, 16, 41, 967, 26, 92], [2, 116, 4, 38, 7, 968, 969, 970, 28, 105, 24, 15, 13, 194, 6, 3, 377, 221, 2, 116, 13, 7, 194, 971, 378, 2, 14, 9, 7, 46, 132], [2, 315, 56, 101, 972, 34, 56, 13, 7, 94, 247, 10, 36, 204, 135, 3, 377, 107, 352, 973, 54, 7, 974, 6, 975, 976, 11, 3, 266, 175, 56, 110, 977, 978, 36, 37, 15], [2, 979, 4, 3, 241, 10, 3, 212, 4, 5, 980], [2, 61, 5, 27, 2, 14, 68, 195, 11, 23, 68, 253, 20, 3, 48, 2, 49, 19, 6, 3, 307, 74, 11, 15], [2, 981, 15, 130, 34, 2, 982, 264, 130, 11, 7, 140, 6, 983, 130, 13, 3, 379, 380, 20, 9, 17, 984, 985, 6, 183, 169, 986], [2, 115, 35, 32, 230, 381, 34, 375, 201, 11, 3, 987, 54, 988, 351, 989, 29, 381, 2, 13, 41, 9, 990], [2, 49, 23, 5, 205, 42, 51, 34, 12, 206, 18, 23, 3, 238, 8, 991, 992], [2, 147, 58, 38, 7, 216, 993, 47, 2, 14, 9, 62, 994, 12, 216, 134, 15], [2, 70, 5, 995, 996, 81, 18, 199, 382, 376, 3, 997, 998, 114], [2, 41, 5, 62, 312, 379, 89], [2, 14, 999, 155, 2, 14, 1000, 117, 9, 273, 25, 12, 344, 383, 1001, 262, 6, 2, 32, 8, 66, 1002, 65, 39, 3, 316, 18, 65], [2, 127, 9, 162, 6, 80, 369, 2, 1003, 55, 1004, 21, 7, 1005], [2, 5, 7, 64, 4, 1006, 12, 311, 384, 3, 1007, 1008, 8, 1009, 1010, 1011, 40, 22], [2, 5, 1012, 4, 122, 22, 1013, 25, 28, 324, 63, 12, 1014, 6, 1015], [2, 1016, 80, 1017, 155, 24, 2, 161, 9, 132], [2, 1018, 35, 32, 57, 56, 13, 9, 80, 2, 210, 8, 56, 1019, 56, 84, 19, 45, 120, 25, 114, 99, 20, 244, 10, 114, 1020, 8, 274, 109, 65, 1021, 15, 42, 146, 15, 13, 50, 237, 65, 137, 136, 385], [2, 13, 9, 220, 1022, 6, 2, 116, 7, 1023, 1024, 196, 4, 157, 25, 12, 1025, 10, 7, 291], [2, 1026, 92, 8, 378, 2, 41, 64, 78, 4, 73, 66, 60, 45, 9, 1027, 37, 74, 160], [2, 70, 5, 15, 1028, 3, 386, 7, 1029, 30, 187, 39, 1030, 1031], [2, 133, 32, 30, 2, 14, 9, 222, 30, 2, 240, 12, 380, 143, 2, 14, 11, 50, 222, 341, 3, 2, 11, 1032, 2, 1033, 7, 1034, 23, 7, 387, 3, 1035, 3, 387, 3, 43, 222, 2, 14, 9, 6, 47, 15, 18, 41, 7, 1036, 27, 50, 1037, 1038, 11, 1039, 31, 1040], [2, 136, 9, 62, 337, 30, 2, 13, 11, 1041, 26, 7, 1042, 8, 13, 67, 55, 1043, 388, 1044, 26, 3, 166, 10, 3, 388, 11, 3, 1045, 10, 7, 1046, 1047, 1048, 47, 65, 131, 67, 4, 299, 142], [2, 84, 5, 36, 1049, 4, 3, 210, 10, 68, 1050, 6, 1051, 20], [31, 1052, 23, 67, 4, 319, 6, 192, 33, 389, 67, 26, 11, 12, 1053, 48, 24, 2, 5, 8, 47, 33, 131, 97, 390, 37, 389, 67, 11, 12, 48, 51, 1054, 19, 4, 49, 18, 1055, 3, 211], [31, 1056, 8, 120, 161, 43, 1057, 11, 28, 226, 24, 31, 23, 9, 51, 8, 162], [2, 5, 60, 281, 12, 1058, 11, 3, 1059, 10, 3, 373, 223, 10, 1060, 6, 236, 3, 1061, 1062, 6, 1063], [2, 217, 1064, 1065, 11, 12, 290, 192, 33, 1066, 57, 2, 5, 7, 1067, 323, 23, 34, 2, 72, 1068, 24, 34, 2, 41, 91, 8, 177, 7, 1069, 1070, 360, 1071, 4, 3, 95, 2, 91], [2, 5, 214, 197, 203, 4, 129, 215, 12, 95, 112, 1072], [31, 317, 1073, 63, 3, 1074, 1075, 10, 1076, 1077, 20, 1078, 6, 2, 209, 1079, 1080, 10, 391, 29, 1081, 391, 4, 1082, 3, 152, 10, 328, 1083, 11, 3, 1084], [2, 14, 1085, 34, 3, 154, 221, 11, 12, 48, 8, 40, 1086, 294, 12, 1087, 18, 359, 29, 23, 2, 38, 4, 255, 1088, 1089, 26, 1090, 30, 2, 38, 118, 44, 50, 1091, 112, 10, 4, 146, 223, 1092, 218, 1093, 223, 9, 1094, 10, 392, 6, 1095, 46, 201], [2, 84, 1096, 4, 1097, 3, 386, 24, 15, 121, 35, 297, 16, 9, 21, 268, 267, 4, 3, 239, 10, 1098, 12, 1099, 384, 7, 1100, 1101], [2, 5, 17, 193, 6, 224], [31, 156, 3, 9, 8, 12, 1102, 39, 7, 46, 1103, 63, 3, 1104, 10, 7, 1105], [2, 70, 5, 1106, 24, 2, 19, 4, 38, 55, 4, 49, 3, 1107, 20, 12, 372], [2, 19, 7, 9, 12, 1108, 1109, 67, 4, 22, 83, 304, 6, 1110, 1111], [2, 93, 4, 1112, 28, 9, 10, 1113, 1114, 6, 1115, 385], [30, 2, 265, 7, 1116, 8, 3, 1117, 98, 1118, 1119, 131, 79, 2, 54, 1120, 8, 2, 147, 22, 95, 10, 3, 1121], [2, 93, 4, 5, 1122, 2, 49, 6, 1123, 2, 49, 6, 32, 3, 106, 59, 91, 16, 1124, 67, 1125, 122, 47, 3, 1126, 10, 3, 1127, 1128], [2, 32, 120, 39, 108, 11, 283, 33, 5, 393], [2, 209, 15, 1129, 25, 1130, 1131, 6, 133, 5, 1132, 1133], [31, 9, 393, 2, 1134, 4, 1135, 25, 12, 219, 1136, 21, 109, 21, 163], [2, 5, 27, 76, 189, 7, 1137, 207, 1138, 71, 76, 1139, 2, 122, 32, 1140], [2, 1141, 116, 1142, 13, 9, 1143, 6, 1144, 220, 3, 1145, 355, 4, 38, 1146, 270, 139, 44, 92, 4, 38, 148, 1147, 1148], [2, 61, 121, 35, 5, 83, 1149, 382, 11, 12, 212, 143, 3, 171, 10, 113, 1150, 11, 1151], [2, 41, 256, 1152, 17, 2, 13, 394, 37, 15, 1153, 213, 6, 1154, 3, 221, 68, 51, 1155, 55, 383, 1156, 71, 124, 16, 5, 17, 392], [60, 289, 100, 1157, 111, 8, 2, 84, 1158, 82, 7, 1159, 263, 8, 60, 45, 1160, 4, 157, 34, 2, 159, 5, 374, 11, 15, 368, 89], [2, 188, 4, 5, 7, 94, 43, 184, 155, 364, 6, 326, 76, 1161, 11, 12, 48, 371], [2, 14, 87, 1162, 10, 3, 1163, 1164, 2, 14, 7, 1165, 6, 15, 124, 16, 5, 295], [2, 52, 1166, 36, 1167, 26, 36, 84, 23, 1168, 109, 43, 394, 6, 9, 390, 4, 348, 3, 1169, 180], [2, 298, 4, 5, 1170, 25, 12, 48, 117], [2, 5, 1171, 6, 242]]\n"
          ]
        }
      ]
    },
    {
      "cell_type": "code",
      "source": [
        "from tensorflow.keras.preprocessing.sequence import pad_sequences\n",
        "max_length = 200\n",
        "from tensorflow.keras.preprocessing.sequence import pad_sequences\n",
        "max_length = 200\n",
        "padding_type = 'post'\n",
        "trunc_type = 'post'\n",
        "training_padded = pad_sequences(sequences, maxlen=max_length, padding=padding_type)\n",
        "print(\"Shape of training padded sequences:\", training_padded.shape)\n",
        "print(\"Padded Sequences:\", training_padded[:5])"
      ],
      "metadata": {
        "colab": {
          "base_uri": "https://localhost:8080/"
        },
        "id": "EDD6MUl5tjn5",
        "outputId": "86982981-d7cf-4896-fa6f-e1ca74c75bbf"
      },
      "execution_count": 16,
      "outputs": [
        {
          "output_type": "stream",
          "name": "stdout",
          "text": [
            "Shape of training padded sequences: (184, 200)\n",
            "Padded Sequences: [[  2 159   5 395   0   0   0   0   0   0   0   0   0   0   0   0   0   0\n",
            "    0   0   0   0   0   0   0   0   0   0   0   0   0   0   0   0   0   0\n",
            "    0   0   0   0   0   0   0   0   0   0   0   0   0   0   0   0   0   0\n",
            "    0   0   0   0   0   0   0   0   0   0   0   0   0   0   0   0   0   0\n",
            "    0   0   0   0   0   0   0   0   0   0   0   0   0   0   0   0   0   0\n",
            "    0   0   0   0   0   0   0   0   0   0   0   0   0   0   0   0   0   0\n",
            "    0   0   0   0   0   0   0   0   0   0   0   0   0   0   0   0   0   0\n",
            "    0   0   0   0   0   0   0   0   0   0   0   0   0   0   0   0   0   0\n",
            "    0   0   0   0   0   0   0   0   0   0   0   0   0   0   0   0   0   0\n",
            "    0   0   0   0   0   0   0   0   0   0   0   0   0   0   0   0   0   0\n",
            "    0   0   0   0   0   0   0   0   0   0   0   0   0   0   0   0   0   0\n",
            "    0   0]\n",
            " [  2  40  58  44   9  17 224   4  17 396 397  41  44  68  69  85  59 398\n",
            "    6  18 225   0   0   0   0   0   0   0   0   0   0   0   0   0   0   0\n",
            "    0   0   0   0   0   0   0   0   0   0   0   0   0   0   0   0   0   0\n",
            "    0   0   0   0   0   0   0   0   0   0   0   0   0   0   0   0   0   0\n",
            "    0   0   0   0   0   0   0   0   0   0   0   0   0   0   0   0   0   0\n",
            "    0   0   0   0   0   0   0   0   0   0   0   0   0   0   0   0   0   0\n",
            "    0   0   0   0   0   0   0   0   0   0   0   0   0   0   0   0   0   0\n",
            "    0   0   0   0   0   0   0   0   0   0   0   0   0   0   0   0   0   0\n",
            "    0   0   0   0   0   0   0   0   0   0   0   0   0   0   0   0   0   0\n",
            "    0   0   0   0   0   0   0   0   0   0   0   0   0   0   0   0   0   0\n",
            "    0   0   0   0   0   0   0   0   0   0   0   0   0   0   0   0   0   0\n",
            "    0   0]\n",
            " [ 31 399   7 400   4 226   2   5 227 228   0   0   0   0   0   0   0   0\n",
            "    0   0   0   0   0   0   0   0   0   0   0   0   0   0   0   0   0   0\n",
            "    0   0   0   0   0   0   0   0   0   0   0   0   0   0   0   0   0   0\n",
            "    0   0   0   0   0   0   0   0   0   0   0   0   0   0   0   0   0   0\n",
            "    0   0   0   0   0   0   0   0   0   0   0   0   0   0   0   0   0   0\n",
            "    0   0   0   0   0   0   0   0   0   0   0   0   0   0   0   0   0   0\n",
            "    0   0   0   0   0   0   0   0   0   0   0   0   0   0   0   0   0   0\n",
            "    0   0   0   0   0   0   0   0   0   0   0   0   0   0   0   0   0   0\n",
            "    0   0   0   0   0   0   0   0   0   0   0   0   0   0   0   0   0   0\n",
            "    0   0   0   0   0   0   0   0   0   0   0   0   0   0   0   0   0   0\n",
            "    0   0   0   0   0   0   0   0   0   0   0   0   0   0   0   0   0   0\n",
            "    0   0]\n",
            " [  2  14  97   9 401  37   3 402   2  52  32   8  15  18  70  26   3 229\n",
            "    0   0   0   0   0   0   0   0   0   0   0   0   0   0   0   0   0   0\n",
            "    0   0   0   0   0   0   0   0   0   0   0   0   0   0   0   0   0   0\n",
            "    0   0   0   0   0   0   0   0   0   0   0   0   0   0   0   0   0   0\n",
            "    0   0   0   0   0   0   0   0   0   0   0   0   0   0   0   0   0   0\n",
            "    0   0   0   0   0   0   0   0   0   0   0   0   0   0   0   0   0   0\n",
            "    0   0   0   0   0   0   0   0   0   0   0   0   0   0   0   0   0   0\n",
            "    0   0   0   0   0   0   0   0   0   0   0   0   0   0   0   0   0   0\n",
            "    0   0   0   0   0   0   0   0   0   0   0   0   0   0   0   0   0   0\n",
            "    0   0   0   0   0   0   0   0   0   0   0   0   0   0   0   0   0   0\n",
            "    0   0   0   0   0   0   0   0   0   0   0   0   0   0   0   0   0   0\n",
            "    0   0]\n",
            " [  2  14   9 403   0   0   0   0   0   0   0   0   0   0   0   0   0   0\n",
            "    0   0   0   0   0   0   0   0   0   0   0   0   0   0   0   0   0   0\n",
            "    0   0   0   0   0   0   0   0   0   0   0   0   0   0   0   0   0   0\n",
            "    0   0   0   0   0   0   0   0   0   0   0   0   0   0   0   0   0   0\n",
            "    0   0   0   0   0   0   0   0   0   0   0   0   0   0   0   0   0   0\n",
            "    0   0   0   0   0   0   0   0   0   0   0   0   0   0   0   0   0   0\n",
            "    0   0   0   0   0   0   0   0   0   0   0   0   0   0   0   0   0   0\n",
            "    0   0   0   0   0   0   0   0   0   0   0   0   0   0   0   0   0   0\n",
            "    0   0   0   0   0   0   0   0   0   0   0   0   0   0   0   0   0   0\n",
            "    0   0   0   0   0   0   0   0   0   0   0   0   0   0   0   0   0   0\n",
            "    0   0   0   0   0   0   0   0   0   0   0   0   0   0   0   0   0   0\n",
            "    0   0]]\n"
          ]
        }
      ]
    },
    {
      "cell_type": "code",
      "source": [
        "import numpy as np\n",
        "training_padded = np.array(training_padded)\n",
        "labels = np.array(labels)\n",
        "import numpy as np\n",
        "training_padded = np.array(training_padded)\n",
        "labels = np.array(labels)\n",
        "print(\"Padded Sequences Shape:\", training_padded.shape)\n",
        "print(\"Labels Shape:\", labels.shape)"
      ],
      "metadata": {
        "id": "V4G3UDW6vKaJ",
        "outputId": "5452214a-c2d5-4af9-eb82-cd4a863406f0",
        "colab": {
          "base_uri": "https://localhost:8080/"
        }
      },
      "execution_count": 19,
      "outputs": [
        {
          "output_type": "stream",
          "name": "stdout",
          "text": [
            "Padded Sequences Shape: (184, 200)\n",
            "Labels Shape: (184,)\n"
          ]
        }
      ]
    },
    {
      "cell_type": "code",
      "source": [
        "from tensorflow.keras.models import Sequential\n",
        "from tensorflow.keras.layers import Embedding, LSTM, Dense\n",
        "from tensorflow.keras.layers import Conv1D, Dropout, MaxPooling1D\n",
        "model = tf.keras.Sequential([\n",
        "    Embedding(vocab_size, embedding_dim),\n",
        "    Dropout(0.2),\n",
        "    Conv1D(filters=256, kernel_size=3, activation=\"relu\"),\n",
        "    MaxPooling1D(pool_size=3),\n",
        "    Conv1D(filters=128, kernel_size=3, activation=\"relu\"),\n",
        "    MaxPooling1D(pool_size=3),\n",
        "    LSTM(128),\n",
        "    Dense(128, activation=\"relu\"),\n",
        "    Dropout(0.2),\n",
        "    Dense(64, activation=\"relu\"),\n",
        "    Dense(6, activation=\"softmax\")\n",
        "])\n",
        "model.compile(loss='sparse_categorical_crossentropy', optimizer='adam', metrics=['accuracy'])\n",
        "model.summary()"
      ],
      "metadata": {
        "id": "ZWtPNQmRvzHf",
        "outputId": "6cde0868-6ee0-43c2-8fb2-d3b71215d804",
        "colab": {
          "base_uri": "https://localhost:8080/",
          "height": 481
        }
      },
      "execution_count": 21,
      "outputs": [
        {
          "output_type": "display_data",
          "data": {
            "text/plain": [
              "\u001b[1mModel: \"sequential_1\"\u001b[0m\n"
            ],
            "text/html": [
              "<pre style=\"white-space:pre;overflow-x:auto;line-height:normal;font-family:Menlo,'DejaVu Sans Mono',consolas,'Courier New',monospace\"><span style=\"font-weight: bold\">Model: \"sequential_1\"</span>\n",
              "</pre>\n"
            ]
          },
          "metadata": {}
        },
        {
          "output_type": "display_data",
          "data": {
            "text/plain": [
              "┏━━━━━━━━━━━━━━━━━━━━━━━━━━━━━━━━━━━━━━┳━━━━━━━━━━━━━━━━━━━━━━━━━━━━━┳━━━━━━━━━━━━━━━━━┓\n",
              "┃\u001b[1m \u001b[0m\u001b[1mLayer (type)                        \u001b[0m\u001b[1m \u001b[0m┃\u001b[1m \u001b[0m\u001b[1mOutput Shape               \u001b[0m\u001b[1m \u001b[0m┃\u001b[1m \u001b[0m\u001b[1m        Param #\u001b[0m\u001b[1m \u001b[0m┃\n",
              "┡━━━━━━━━━━━━━━━━━━━━━━━━━━━━━━━━━━━━━━╇━━━━━━━━━━━━━━━━━━━━━━━━━━━━━╇━━━━━━━━━━━━━━━━━┩\n",
              "│ embedding_1 (\u001b[38;5;33mEmbedding\u001b[0m)              │ ?                           │     \u001b[38;5;34m0\u001b[0m (unbuilt) │\n",
              "├──────────────────────────────────────┼─────────────────────────────┼─────────────────┤\n",
              "│ dropout_2 (\u001b[38;5;33mDropout\u001b[0m)                  │ ?                           │     \u001b[38;5;34m0\u001b[0m (unbuilt) │\n",
              "├──────────────────────────────────────┼─────────────────────────────┼─────────────────┤\n",
              "│ conv1d_2 (\u001b[38;5;33mConv1D\u001b[0m)                    │ ?                           │     \u001b[38;5;34m0\u001b[0m (unbuilt) │\n",
              "├──────────────────────────────────────┼─────────────────────────────┼─────────────────┤\n",
              "│ max_pooling1d_2 (\u001b[38;5;33mMaxPooling1D\u001b[0m)       │ ?                           │     \u001b[38;5;34m0\u001b[0m (unbuilt) │\n",
              "├──────────────────────────────────────┼─────────────────────────────┼─────────────────┤\n",
              "│ conv1d_3 (\u001b[38;5;33mConv1D\u001b[0m)                    │ ?                           │     \u001b[38;5;34m0\u001b[0m (unbuilt) │\n",
              "├──────────────────────────────────────┼─────────────────────────────┼─────────────────┤\n",
              "│ max_pooling1d_3 (\u001b[38;5;33mMaxPooling1D\u001b[0m)       │ ?                           │     \u001b[38;5;34m0\u001b[0m (unbuilt) │\n",
              "├──────────────────────────────────────┼─────────────────────────────┼─────────────────┤\n",
              "│ lstm_1 (\u001b[38;5;33mLSTM\u001b[0m)                        │ ?                           │     \u001b[38;5;34m0\u001b[0m (unbuilt) │\n",
              "├──────────────────────────────────────┼─────────────────────────────┼─────────────────┤\n",
              "│ dense_3 (\u001b[38;5;33mDense\u001b[0m)                      │ ?                           │     \u001b[38;5;34m0\u001b[0m (unbuilt) │\n",
              "├──────────────────────────────────────┼─────────────────────────────┼─────────────────┤\n",
              "│ dropout_3 (\u001b[38;5;33mDropout\u001b[0m)                  │ ?                           │     \u001b[38;5;34m0\u001b[0m (unbuilt) │\n",
              "├──────────────────────────────────────┼─────────────────────────────┼─────────────────┤\n",
              "│ dense_4 (\u001b[38;5;33mDense\u001b[0m)                      │ ?                           │     \u001b[38;5;34m0\u001b[0m (unbuilt) │\n",
              "├──────────────────────────────────────┼─────────────────────────────┼─────────────────┤\n",
              "│ dense_5 (\u001b[38;5;33mDense\u001b[0m)                      │ ?                           │     \u001b[38;5;34m0\u001b[0m (unbuilt) │\n",
              "└──────────────────────────────────────┴─────────────────────────────┴─────────────────┘\n"
            ],
            "text/html": [
              "<pre style=\"white-space:pre;overflow-x:auto;line-height:normal;font-family:Menlo,'DejaVu Sans Mono',consolas,'Courier New',monospace\">┏━━━━━━━━━━━━━━━━━━━━━━━━━━━━━━━━━━━━━━┳━━━━━━━━━━━━━━━━━━━━━━━━━━━━━┳━━━━━━━━━━━━━━━━━┓\n",
              "┃<span style=\"font-weight: bold\"> Layer (type)                         </span>┃<span style=\"font-weight: bold\"> Output Shape                </span>┃<span style=\"font-weight: bold\">         Param # </span>┃\n",
              "┡━━━━━━━━━━━━━━━━━━━━━━━━━━━━━━━━━━━━━━╇━━━━━━━━━━━━━━━━━━━━━━━━━━━━━╇━━━━━━━━━━━━━━━━━┩\n",
              "│ embedding_1 (<span style=\"color: #0087ff; text-decoration-color: #0087ff\">Embedding</span>)              │ ?                           │     <span style=\"color: #00af00; text-decoration-color: #00af00\">0</span> (unbuilt) │\n",
              "├──────────────────────────────────────┼─────────────────────────────┼─────────────────┤\n",
              "│ dropout_2 (<span style=\"color: #0087ff; text-decoration-color: #0087ff\">Dropout</span>)                  │ ?                           │     <span style=\"color: #00af00; text-decoration-color: #00af00\">0</span> (unbuilt) │\n",
              "├──────────────────────────────────────┼─────────────────────────────┼─────────────────┤\n",
              "│ conv1d_2 (<span style=\"color: #0087ff; text-decoration-color: #0087ff\">Conv1D</span>)                    │ ?                           │     <span style=\"color: #00af00; text-decoration-color: #00af00\">0</span> (unbuilt) │\n",
              "├──────────────────────────────────────┼─────────────────────────────┼─────────────────┤\n",
              "│ max_pooling1d_2 (<span style=\"color: #0087ff; text-decoration-color: #0087ff\">MaxPooling1D</span>)       │ ?                           │     <span style=\"color: #00af00; text-decoration-color: #00af00\">0</span> (unbuilt) │\n",
              "├──────────────────────────────────────┼─────────────────────────────┼─────────────────┤\n",
              "│ conv1d_3 (<span style=\"color: #0087ff; text-decoration-color: #0087ff\">Conv1D</span>)                    │ ?                           │     <span style=\"color: #00af00; text-decoration-color: #00af00\">0</span> (unbuilt) │\n",
              "├──────────────────────────────────────┼─────────────────────────────┼─────────────────┤\n",
              "│ max_pooling1d_3 (<span style=\"color: #0087ff; text-decoration-color: #0087ff\">MaxPooling1D</span>)       │ ?                           │     <span style=\"color: #00af00; text-decoration-color: #00af00\">0</span> (unbuilt) │\n",
              "├──────────────────────────────────────┼─────────────────────────────┼─────────────────┤\n",
              "│ lstm_1 (<span style=\"color: #0087ff; text-decoration-color: #0087ff\">LSTM</span>)                        │ ?                           │     <span style=\"color: #00af00; text-decoration-color: #00af00\">0</span> (unbuilt) │\n",
              "├──────────────────────────────────────┼─────────────────────────────┼─────────────────┤\n",
              "│ dense_3 (<span style=\"color: #0087ff; text-decoration-color: #0087ff\">Dense</span>)                      │ ?                           │     <span style=\"color: #00af00; text-decoration-color: #00af00\">0</span> (unbuilt) │\n",
              "├──────────────────────────────────────┼─────────────────────────────┼─────────────────┤\n",
              "│ dropout_3 (<span style=\"color: #0087ff; text-decoration-color: #0087ff\">Dropout</span>)                  │ ?                           │     <span style=\"color: #00af00; text-decoration-color: #00af00\">0</span> (unbuilt) │\n",
              "├──────────────────────────────────────┼─────────────────────────────┼─────────────────┤\n",
              "│ dense_4 (<span style=\"color: #0087ff; text-decoration-color: #0087ff\">Dense</span>)                      │ ?                           │     <span style=\"color: #00af00; text-decoration-color: #00af00\">0</span> (unbuilt) │\n",
              "├──────────────────────────────────────┼─────────────────────────────┼─────────────────┤\n",
              "│ dense_5 (<span style=\"color: #0087ff; text-decoration-color: #0087ff\">Dense</span>)                      │ ?                           │     <span style=\"color: #00af00; text-decoration-color: #00af00\">0</span> (unbuilt) │\n",
              "└──────────────────────────────────────┴─────────────────────────────┴─────────────────┘\n",
              "</pre>\n"
            ]
          },
          "metadata": {}
        },
        {
          "output_type": "display_data",
          "data": {
            "text/plain": [
              "\u001b[1m Total params: \u001b[0m\u001b[38;5;34m0\u001b[0m (0.00 B)\n"
            ],
            "text/html": [
              "<pre style=\"white-space:pre;overflow-x:auto;line-height:normal;font-family:Menlo,'DejaVu Sans Mono',consolas,'Courier New',monospace\"><span style=\"font-weight: bold\"> Total params: </span><span style=\"color: #00af00; text-decoration-color: #00af00\">0</span> (0.00 B)\n",
              "</pre>\n"
            ]
          },
          "metadata": {}
        },
        {
          "output_type": "display_data",
          "data": {
            "text/plain": [
              "\u001b[1m Trainable params: \u001b[0m\u001b[38;5;34m0\u001b[0m (0.00 B)\n"
            ],
            "text/html": [
              "<pre style=\"white-space:pre;overflow-x:auto;line-height:normal;font-family:Menlo,'DejaVu Sans Mono',consolas,'Courier New',monospace\"><span style=\"font-weight: bold\"> Trainable params: </span><span style=\"color: #00af00; text-decoration-color: #00af00\">0</span> (0.00 B)\n",
              "</pre>\n"
            ]
          },
          "metadata": {}
        },
        {
          "output_type": "display_data",
          "data": {
            "text/plain": [
              "\u001b[1m Non-trainable params: \u001b[0m\u001b[38;5;34m0\u001b[0m (0.00 B)\n"
            ],
            "text/html": [
              "<pre style=\"white-space:pre;overflow-x:auto;line-height:normal;font-family:Menlo,'DejaVu Sans Mono',consolas,'Courier New',monospace\"><span style=\"font-weight: bold\"> Non-trainable params: </span><span style=\"color: #00af00; text-decoration-color: #00af00\">0</span> (0.00 B)\n",
              "</pre>\n"
            ]
          },
          "metadata": {}
        }
      ]
    },
    {
      "cell_type": "code",
      "source": [
        "num_epochs = 30\n",
        "history = model.fit(training_padded, labels, epochs=num_epochs, verbose=2)"
      ],
      "metadata": {
        "id": "XIZLc1b3wLtp",
        "outputId": "1a51cdb1-fc99-4f93-a5ab-ee7022a23542",
        "colab": {
          "base_uri": "https://localhost:8080/"
        }
      },
      "execution_count": 22,
      "outputs": [
        {
          "output_type": "stream",
          "name": "stdout",
          "text": [
            "Epoch 1/30\n",
            "6/6 - 5s - 784ms/step - accuracy: 0.3207 - loss: 1.7623\n",
            "Epoch 2/30\n",
            "6/6 - 1s - 162ms/step - accuracy: 0.3696 - loss: 1.6376\n",
            "Epoch 3/30\n",
            "6/6 - 1s - 88ms/step - accuracy: 0.3696 - loss: 1.6103\n",
            "Epoch 4/30\n",
            "6/6 - 1s - 109ms/step - accuracy: 0.3750 - loss: 1.6050\n",
            "Epoch 5/30\n",
            "6/6 - 1s - 101ms/step - accuracy: 0.3696 - loss: 1.6072\n",
            "Epoch 6/30\n",
            "6/6 - 1s - 89ms/step - accuracy: 0.3696 - loss: 1.5976\n",
            "Epoch 7/30\n",
            "6/6 - 1s - 144ms/step - accuracy: 0.3696 - loss: 1.6010\n",
            "Epoch 8/30\n",
            "6/6 - 1s - 152ms/step - accuracy: 0.3696 - loss: 1.6048\n",
            "Epoch 9/30\n",
            "6/6 - 1s - 227ms/step - accuracy: 0.3696 - loss: 1.5983\n",
            "Epoch 10/30\n",
            "6/6 - 1s - 133ms/step - accuracy: 0.3696 - loss: 1.5922\n",
            "Epoch 11/30\n",
            "6/6 - 1s - 101ms/step - accuracy: 0.3696 - loss: 1.6036\n",
            "Epoch 12/30\n",
            "6/6 - 1s - 95ms/step - accuracy: 0.3696 - loss: 1.5939\n",
            "Epoch 13/30\n",
            "6/6 - 1s - 100ms/step - accuracy: 0.3696 - loss: 1.5935\n",
            "Epoch 14/30\n",
            "6/6 - 1s - 86ms/step - accuracy: 0.3696 - loss: 1.5995\n",
            "Epoch 15/30\n",
            "6/6 - 1s - 105ms/step - accuracy: 0.3696 - loss: 1.5769\n",
            "Epoch 16/30\n",
            "6/6 - 1s - 89ms/step - accuracy: 0.3696 - loss: 1.5772\n",
            "Epoch 17/30\n",
            "6/6 - 1s - 92ms/step - accuracy: 0.3696 - loss: 1.5171\n",
            "Epoch 18/30\n",
            "6/6 - 1s - 101ms/step - accuracy: 0.3804 - loss: 1.3567\n",
            "Epoch 19/30\n",
            "6/6 - 1s - 103ms/step - accuracy: 0.4022 - loss: 1.2561\n",
            "Epoch 20/30\n",
            "6/6 - 1s - 108ms/step - accuracy: 0.4402 - loss: 1.1322\n",
            "Epoch 21/30\n",
            "6/6 - 1s - 86ms/step - accuracy: 0.4620 - loss: 1.0515\n",
            "Epoch 22/30\n",
            "6/6 - 1s - 90ms/step - accuracy: 0.5543 - loss: 0.9580\n",
            "Epoch 23/30\n",
            "6/6 - 1s - 99ms/step - accuracy: 0.5380 - loss: 1.0615\n",
            "Epoch 24/30\n",
            "6/6 - 1s - 88ms/step - accuracy: 0.4891 - loss: 1.0037\n",
            "Epoch 25/30\n",
            "6/6 - 1s - 105ms/step - accuracy: 0.5272 - loss: 1.0251\n",
            "Epoch 26/30\n",
            "6/6 - 1s - 100ms/step - accuracy: 0.5163 - loss: 0.9647\n",
            "Epoch 27/30\n",
            "6/6 - 1s - 144ms/step - accuracy: 0.5163 - loss: 0.9494\n",
            "Epoch 28/30\n",
            "6/6 - 1s - 210ms/step - accuracy: 0.5870 - loss: 0.8943\n",
            "Epoch 29/30\n",
            "6/6 - 1s - 155ms/step - accuracy: 0.6141 - loss: 0.8547\n",
            "Epoch 30/30\n",
            "6/6 - 1s - 103ms/step - accuracy: 0.6630 - loss: 0.8226\n"
          ]
        }
      ]
    },
    {
      "cell_type": "code",
      "source": [
        "new_sentences = [\n",
        "    \"I am really excited about this project!\",\n",
        "    \"This lab exercise is quite challenging.\",\n",
        "    \"Data science is fascinating and fun.\",\n",
        "    \"I don't enjoy this topic at all.\",\n",
        "    \"I feel frustrated with my progress.\"\n",
        "]\n",
        "new_sentences = [\n",
        "    \"I am really excited about this project!\",\n",
        "    \"This lab exercise is quite challenging.\",\n",
        "    \"Data science is fascinating and fun.\",\n",
        "    \"I don't enjoy this topic at all.\",\n",
        "    \"I feel frustrated with my progress.\"\n",
        "]\n",
        "new_sequences = tokenizer.texts_to_sequences(new_sentences)\n",
        "new_padded = pad_sequences(new_sequences, maxlen=max_length, padding='post', truncating='post')\n",
        "predictions = model.predict(new_padded)\n",
        "predicted_classes = np.argmax(predictions, axis=1)\n",
        "for sentence, prediction in zip(new_sentences, predicted_classes):\n",
        "    print(f\"Sentence: '{sentence}' - Predicted Class: {prediction}\")\n",
        "for sentence, prediction in zip(new_sentences, predicted_classes):\n",
        "    print(f\"Sentence: '{sentence}' - Predicted Class: {prediction}\")"
      ],
      "metadata": {
        "id": "oQooBrbCwv4r",
        "outputId": "d802241e-ba8f-4ec5-9f42-37493ef4b93c",
        "colab": {
          "base_uri": "https://localhost:8080/"
        }
      },
      "execution_count": 34,
      "outputs": [
        {
          "output_type": "stream",
          "name": "stdout",
          "text": [
            "\u001b[1m1/1\u001b[0m \u001b[32m━━━━━━━━━━━━━━━━━━━━\u001b[0m\u001b[37m\u001b[0m \u001b[1m0s\u001b[0m 35ms/step\n",
            "Sentence: 'I am really excited about this project!' - Predicted Class: 1\n",
            "Sentence: 'This lab exercise is quite challenging.' - Predicted Class: 1\n",
            "Sentence: 'Data science is fascinating and fun.' - Predicted Class: 5\n",
            "Sentence: 'I don't enjoy this topic at all.' - Predicted Class: 1\n",
            "Sentence: 'I feel frustrated with my progress.' - Predicted Class: 1\n",
            "Sentence: 'I am really excited about this project!' - Predicted Class: 1\n",
            "Sentence: 'This lab exercise is quite challenging.' - Predicted Class: 1\n",
            "Sentence: 'Data science is fascinating and fun.' - Predicted Class: 5\n",
            "Sentence: 'I don't enjoy this topic at all.' - Predicted Class: 1\n",
            "Sentence: 'I feel frustrated with my progress.' - Predicted Class: 1\n"
          ]
        }
      ]
    },
    {
      "cell_type": "code",
      "source": [
        "!pip install nltk\n",
        "import nltk\n",
        "from nltk.chat.util import Chat, reflections"
      ],
      "metadata": {
        "id": "LOdyc9rcz5BN",
        "outputId": "6ad3d349-373d-4494-db00-a4ab329abc5d",
        "colab": {
          "base_uri": "https://localhost:8080/"
        }
      },
      "execution_count": 36,
      "outputs": [
        {
          "output_type": "stream",
          "name": "stdout",
          "text": [
            "Requirement already satisfied: nltk in /usr/local/lib/python3.10/dist-packages (3.8.1)\n",
            "Requirement already satisfied: click in /usr/local/lib/python3.10/dist-packages (from nltk) (8.1.7)\n",
            "Requirement already satisfied: joblib in /usr/local/lib/python3.10/dist-packages (from nltk) (1.4.2)\n",
            "Requirement already satisfied: regex>=2021.8.3 in /usr/local/lib/python3.10/dist-packages (from nltk) (2024.9.11)\n",
            "Requirement already satisfied: tqdm in /usr/local/lib/python3.10/dist-packages (from nltk) (4.66.5)\n"
          ]
        }
      ]
    },
    {
      "cell_type": "code",
      "source": [
        "import nltk\n",
        "nltk.download('punkt')\n",
        "nltk.download('wordnet')"
      ],
      "metadata": {
        "id": "ZlHbImWRz2nR",
        "outputId": "fa0d48fd-9c5b-49bf-8e5f-8be3c774e394",
        "colab": {
          "base_uri": "https://localhost:8080/"
        }
      },
      "execution_count": 37,
      "outputs": [
        {
          "output_type": "stream",
          "name": "stderr",
          "text": [
            "[nltk_data] Downloading package punkt to /root/nltk_data...\n",
            "[nltk_data]   Package punkt is already up-to-date!\n",
            "[nltk_data] Downloading package wordnet to /root/nltk_data...\n",
            "[nltk_data]   Package wordnet is already up-to-date!\n"
          ]
        },
        {
          "output_type": "execute_result",
          "data": {
            "text/plain": [
              "True"
            ]
          },
          "metadata": {},
          "execution_count": 37
        }
      ]
    },
    {
      "cell_type": "code",
      "source": [
        "patterns = [\n",
        "    (r'hi|hello|hey', ['Hello!', 'Hi there!', 'Hey!']),\n",
        "    (r'how are you\\?', [\"I'm good, thank you!\", \"I'm doing well, thanks for asking.\"]),\n",
        "    (r'bye|goodbye', ['Goodbye!', 'See you later!', 'Take care!']),\n",
        "    (r'thank you|thanks', [\"You're welcome!\", \"No problem!\", \"Happy to help!\"]),\n",
        "    (r'help|support', [\"I'm here to help! What do you need assistance with?\", \"How can I assistance with?\"]),\n",
        "\n",
        "]"
      ],
      "metadata": {
        "id": "ME43c3Q-0KFm"
      },
      "execution_count": 39,
      "outputs": []
    },
    {
      "cell_type": "code",
      "source": [
        "chatbot = Chat(patterns, reflections)"
      ],
      "metadata": {
        "id": "0Ep7aNSW1EhB"
      },
      "execution_count": 40,
      "outputs": []
    },
    {
      "cell_type": "code",
      "source": [
        "from transformers import pipeline\n",
        "emotion_analyzer = pipeline('text-classification', model='distilbert-base-uncased-finetuned-sst-2-english')"
      ],
      "metadata": {
        "id": "lLEsAN5F1Lkn",
        "outputId": "ad4f0991-d4dc-4426-b940-552f156a3897",
        "colab": {
          "base_uri": "https://localhost:8080/",
          "height": 304,
          "referenced_widgets": [
            "bc852bc46b2f45b3b2d92bf2fbbb05c0",
            "2793eed40e2e4022af2b7a319c3b3d0f",
            "752a4d73d99b4ef59554082697a8dd30",
            "c41940713a554d67a7175152ab2c192f",
            "358b016355f34204b07e8895e679ff4d",
            "e7326a8c17924c0a951d0c82b3b3037e",
            "7ffaefbb552e43fe89cdf8b31fe3368a",
            "754159e008e74a82942598ae8f28f8fe",
            "85120561b1e240149229e887e4cef4eb",
            "36d6f29bed0a4dffbabb1706ffc70de4",
            "891f58cbdee24aaa8c01dbd3904156fb",
            "87b0bee63aef4bd3a4f4d73706d29327",
            "a4e9ea5fdbed475f8fc92c22a7a2d133",
            "67c83a1910d44342a3f5656ce7a7085c",
            "3e7bbfa92eda4ea9bb8d861779c458de",
            "0ad6fdbdd10740239d06c5198a3e2510",
            "347835252b454286984179d68bd594f5",
            "83cc22f09ca84917a0db44ff110f6bc7",
            "f00cf99e8c7341558ce6a545955d1a4c",
            "4f3ec57dfda94fedba55fa2730ab024f",
            "e817cc656024497f9f36f2b517f78440",
            "0e8b0533ab784f8ab21718c35a5e18b4",
            "a41212423ef14bee9674bf4ba6d0b8a3",
            "7cbe60d8e3f5497aaa33e4453a435b7d",
            "b298edae300c48699970317ed8f200a9",
            "13fc9cea21854f8085b950472cba4b90",
            "53b1dc89c95d4dc6b7f25094d72e4e6b",
            "be7b2f3846184cbaba3bad7871aaf87b",
            "d0f1446c7e99421ca5635571ebca0048",
            "4318b4490afb4ec6a76f92c0a3b502dc",
            "99e1e3f826ef407a9564346d7f864936",
            "5e36cee300db406f8ac9797c04853c72",
            "dc953acd1e764d6299e83e94b247c4a1",
            "2a0e2fe8bc0849b2bc60f3b332eff41f",
            "67f2af16b57f4a8caa9e23fa9b063d4b",
            "8543ddffda2347fca9ab71583b1fa74c",
            "be1fdd610ce246afa42ee47f3482e659",
            "5ba8cb7363a848089ff98f7722f4fb39",
            "9ee3702378b741bf87577ac9696480b2",
            "c7046dd9c75a433f9dc74675f623001f",
            "fb8d5b532de347d9a00ef80b9bf08e41",
            "94985865aff24fceac7c0bf89db87f2e",
            "41574432b0864a3783b4d0ee2feb64b4",
            "f501aac8c3444ccba19c3a422f950671"
          ]
        }
      },
      "execution_count": 41,
      "outputs": [
        {
          "output_type": "stream",
          "name": "stderr",
          "text": [
            "/usr/local/lib/python3.10/dist-packages/huggingface_hub/utils/_token.py:89: UserWarning: \n",
            "The secret `HF_TOKEN` does not exist in your Colab secrets.\n",
            "To authenticate with the Hugging Face Hub, create a token in your settings tab (https://huggingface.co/settings/tokens), set it as secret in your Google Colab and restart your session.\n",
            "You will be able to reuse this secret in all of your notebooks.\n",
            "Please note that authentication is recommended but still optional to access public models or datasets.\n",
            "  warnings.warn(\n"
          ]
        },
        {
          "output_type": "display_data",
          "data": {
            "text/plain": [
              "config.json:   0%|          | 0.00/629 [00:00<?, ?B/s]"
            ],
            "application/vnd.jupyter.widget-view+json": {
              "version_major": 2,
              "version_minor": 0,
              "model_id": "bc852bc46b2f45b3b2d92bf2fbbb05c0"
            }
          },
          "metadata": {}
        },
        {
          "output_type": "display_data",
          "data": {
            "text/plain": [
              "model.safetensors:   0%|          | 0.00/268M [00:00<?, ?B/s]"
            ],
            "application/vnd.jupyter.widget-view+json": {
              "version_major": 2,
              "version_minor": 0,
              "model_id": "87b0bee63aef4bd3a4f4d73706d29327"
            }
          },
          "metadata": {}
        },
        {
          "output_type": "display_data",
          "data": {
            "text/plain": [
              "tokenizer_config.json:   0%|          | 0.00/48.0 [00:00<?, ?B/s]"
            ],
            "application/vnd.jupyter.widget-view+json": {
              "version_major": 2,
              "version_minor": 0,
              "model_id": "a41212423ef14bee9674bf4ba6d0b8a3"
            }
          },
          "metadata": {}
        },
        {
          "output_type": "display_data",
          "data": {
            "text/plain": [
              "vocab.txt:   0%|          | 0.00/232k [00:00<?, ?B/s]"
            ],
            "application/vnd.jupyter.widget-view+json": {
              "version_major": 2,
              "version_minor": 0,
              "model_id": "2a0e2fe8bc0849b2bc60f3b332eff41f"
            }
          },
          "metadata": {}
        },
        {
          "output_type": "stream",
          "name": "stderr",
          "text": [
            "/usr/local/lib/python3.10/dist-packages/transformers/tokenization_utils_base.py:1601: FutureWarning: `clean_up_tokenization_spaces` was not set. It will be set to `True` by default. This behavior will be depracted in transformers v4.45, and will be then set to `False` by default. For more details check this issue: https://github.com/huggingface/transformers/issues/31884\n",
            "  warnings.warn(\n"
          ]
        }
      ]
    }
  ]
}