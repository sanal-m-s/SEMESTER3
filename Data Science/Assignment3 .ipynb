{
  "nbformat": 4,
  "nbformat_minor": 0,
  "metadata": {
    "colab": {
      "provenance": []
    },
    "kernelspec": {
      "name": "python3",
      "display_name": "Python 3"
    },
    "language_info": {
      "name": "python"
    }
  },
  "cells": [
    {
      "cell_type": "code",
      "source": [
        "print(\"sanal m s\")"
      ],
      "metadata": {
        "id": "fdPoLWEoQEAo"
      },
      "execution_count": null,
      "outputs": []
    },
    {
      "cell_type": "code",
      "source": [
        "import tensorflow as tf\n",
        "# np.random.seed(0)\n",
        "# tf.random.set_seed(0)\n",
        "m = int(input(\"enter the no of rows :\"))\n",
        "n = int(input(\"enter the no of column :\"))\n"
      ],
      "metadata": {
        "colab": {
          "base_uri": "https://localhost:8080/"
        },
        "id": "sYpLphJC_2vI",
        "outputId": "466aac1f-674f-4013-a929-b4c25cc1268c"
      },
      "execution_count": 3,
      "outputs": [
        {
          "name": "stdout",
          "output_type": "stream",
          "text": [
            "enter the no of rows :3\n",
            "enter the no of column :4\n"
          ]
        }
      ]
    },
    {
      "cell_type": "code",
      "source": [
        "\n",
        "alpha = 0.01"
      ],
      "metadata": {
        "id": "fvT7oPiLAhfo"
      },
      "execution_count": 5,
      "outputs": []
    },
    {
      "cell_type": "code",
      "source": [
        "U = tf.random.uniform((m,n))"
      ],
      "metadata": {
        "id": "kE_yhLkyAxkK"
      },
      "execution_count": 10,
      "outputs": []
    },
    {
      "cell_type": "code",
      "source": [
        "X = tf.transpose(u)"
      ],
      "metadata": {
        "id": "DiuRBfJzBFDK"
      },
      "execution_count": 11,
      "outputs": []
    },
    {
      "cell_type": "code",
      "source": [
        "Y = tf.random.uniform((1, m),maxval=10, dtype=tf.int32)"
      ],
      "metadata": {
        "id": "SDiDLkJuBPXC"
      },
      "execution_count": 17,
      "outputs": []
    },
    {
      "cell_type": "code",
      "source": [
        "p = 5"
      ],
      "metadata": {
        "id": "Y44lFEA1Drz2"
      },
      "execution_count": 19,
      "outputs": []
    },
    {
      "cell_type": "code",
      "source": [
        "W1 = tf.Variable(tf.random.uniform((p,n)))\n",
        "print(\"Matrix W1:\\n\",W1)"
      ],
      "metadata": {
        "colab": {
          "base_uri": "https://localhost:8080/"
        },
        "id": "RZX74LGRDvoq",
        "outputId": "332247f3-2de9-4354-e9d8-35e25e926016"
      },
      "execution_count": 27,
      "outputs": [
        {
          "output_type": "stream",
          "name": "stdout",
          "text": [
            "Matrix W1:\n",
            " <tf.Variable 'Variable:0' shape=(5, 4) dtype=float32, numpy=\n",
            "array([[0.16418684, 0.28004825, 0.18143892, 0.50682664],\n",
            "       [0.46599257, 0.11818612, 0.55899227, 0.6048995 ],\n",
            "       [0.21985221, 0.92891157, 0.25116467, 0.31829846],\n",
            "       [0.06491065, 0.88530934, 0.5424533 , 0.38692987],\n",
            "       [0.48811603, 0.6795474 , 0.816823  , 0.38675404]], dtype=float32)>\n"
          ]
        }
      ]
    },
    {
      "cell_type": "code",
      "source": [
        "B1 = tf.Variable(tf.random.uniform((p,1)))\n",
        "print(\"Matrix W1:\\n\",B1)"
      ],
      "metadata": {
        "colab": {
          "base_uri": "https://localhost:8080/"
        },
        "id": "NMBeWydkFDu6",
        "outputId": "82f5127d-78e7-459e-ee0f-d09537710173"
      },
      "execution_count": 29,
      "outputs": [
        {
          "output_type": "stream",
          "name": "stdout",
          "text": [
            "Matrix W1:\n",
            " <tf.Variable 'Variable:0' shape=(5, 1) dtype=float32, numpy=\n",
            "array([[0.5827347 ],\n",
            "       [0.38821375],\n",
            "       [0.8265686 ],\n",
            "       [0.24717581],\n",
            "       [0.38411677]], dtype=float32)>\n"
          ]
        }
      ]
    },
    {
      "cell_type": "code",
      "source": [
        "W2 = tf.Variable(tf.random.uniform((10,p)))\n",
        "print(\"Matrix W1:\\n\",W2)"
      ],
      "metadata": {
        "colab": {
          "base_uri": "https://localhost:8080/"
        },
        "id": "bLtOLeI0FkNT",
        "outputId": "2ed5e3f1-718d-40e3-d030-f14c0832a397"
      },
      "execution_count": 31,
      "outputs": [
        {
          "output_type": "stream",
          "name": "stdout",
          "text": [
            "Matrix W1:\n",
            " <tf.Variable 'Variable:0' shape=(10, 5) dtype=float32, numpy=\n",
            "array([[0.580551  , 0.6286602 , 0.641574  , 0.8629137 , 0.08965397],\n",
            "       [0.92937684, 0.25159597, 0.1608653 , 0.9908571 , 0.7720033 ],\n",
            "       [0.49785244, 0.08044684, 0.17038119, 0.13351643, 0.09870982],\n",
            "       [0.04765153, 0.87071145, 0.10366881, 0.31473982, 0.5184357 ],\n",
            "       [0.7411926 , 0.38630235, 0.6625793 , 0.25583208, 0.7011254 ],\n",
            "       [0.9851682 , 0.6869558 , 0.8399143 , 0.28173363, 0.5065093 ],\n",
            "       [0.12536645, 0.20266604, 0.56504345, 0.5693778 , 0.49188685],\n",
            "       [0.885697  , 0.6530309 , 0.75821245, 0.37313795, 0.8016583 ],\n",
            "       [0.15751576, 0.07459223, 0.6976677 , 0.6534722 , 0.93385625],\n",
            "       [0.66664004, 0.2594731 , 0.05597901, 0.26091933, 0.75310016]],\n",
            "      dtype=float32)>\n"
          ]
        }
      ]
    },
    {
      "cell_type": "code",
      "source": [
        "B2 = tf.Variable(tf.random.uniform(([])))\n",
        "print(\"Matrix W1:\\n\",B2)"
      ],
      "metadata": {
        "colab": {
          "base_uri": "https://localhost:8080/"
        },
        "id": "F13V_9wRFquy",
        "outputId": "cbc0bf5d-e0bf-41e6-c240-af079f384a36"
      },
      "execution_count": 33,
      "outputs": [
        {
          "output_type": "stream",
          "name": "stdout",
          "text": [
            "Matrix W1:\n",
            " <tf.Variable 'Variable:0' shape=() dtype=float32, numpy=0.17394996>\n"
          ]
        }
      ]
    },
    {
      "cell_type": "code",
      "source": [
        "def softmax(x):\n",
        "    return tf.nn.softmax(x)"
      ],
      "metadata": {
        "id": "AjC6YFOXF7cB"
      },
      "execution_count": 36,
      "outputs": []
    },
    {
      "cell_type": "code",
      "source": [
        "def relu(x):\n",
        "    return tf.nn.relu(x)"
      ],
      "metadata": {
        "id": "118T0_VAGrcX"
      },
      "execution_count": 39,
      "outputs": []
    },
    {
      "cell_type": "code",
      "source": [
        "def relu_deriv(x):\n",
        "    return tf.cast(x = 0,dtype=tf.flow32)"
      ],
      "metadata": {
        "id": "a3XnZdVHHFBK"
      },
      "execution_count": 41,
      "outputs": []
    },
    {
      "cell_type": "code",
      "source": [],
      "metadata": {
        "id": "unPtkaLDJdAZ"
      },
      "execution_count": null,
      "outputs": []
    }
  ]
}