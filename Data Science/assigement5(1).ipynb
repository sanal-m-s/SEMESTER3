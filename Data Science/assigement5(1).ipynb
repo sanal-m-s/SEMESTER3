{
  "nbformat": 4,
  "nbformat_minor": 0,
  "metadata": {
    "colab": {
      "provenance": []
    },
    "kernelspec": {
      "name": "python3",
      "display_name": "Python 3"
    },
    "language_info": {
      "name": "python"
    }
  },
  "cells": [
    {
      "cell_type": "code",
      "source": [
        "\n",
        "import seaborn as sns\n",
        "import pandas as pd\n",
        "\n",
        "iris = sns.load_dataset('iris')\n",
        "iris_df = pd.DataFrame(iris)\n"
      ],
      "metadata": {
        "id": "KNulwbc_mfga"
      },
      "execution_count": null,
      "outputs": []
    },
    {
      "cell_type": "code",
      "source": [
        "\n",
        "from sklearn.model_selection import train_test_split\n",
        "\n",
        "X = iris_df.drop('species', axis=1)\n",
        "y = iris_df['species']\n",
        "\n",
        "X_train, X_test, y_train, y_test = train_test_split(X, y, test_size=0.2, random_state=42)\n"
      ],
      "metadata": {
        "id": "T8UweJKOnwCC"
      },
      "execution_count": null,
      "outputs": []
    },
    {
      "cell_type": "code",
      "source": [
        "\n",
        "\n",
        "from sklearn.neighbors import KNeighborsClassifier\n",
        "from sklearn.naive_bayes import GaussianNB\n",
        "from sklearn.tree import DecisionTreeClassifier\n",
        "from sklearn.ensemble import RandomForestClassifier\n",
        "from sklearn.svm import SVC\n",
        "from sklearn.metrics import accuracy_score, precision_score, recall_score, f1_score\n",
        "\n",
        "# K-Nearest Neighbors\n",
        "knn = KNeighborsClassifier()\n",
        "knn.fit(X_train, y_train)\n",
        "y_pred_knn = knn.predict(X_test)\n",
        "print(\"KNN Accuracy:\", accuracy_score(y_test, y_pred_knn))\n",
        "print(\"KNN Precision:\", precision_score(y_test, y_pred_knn, average='weighted'))\n",
        "print(\"KNN Recall:\", recall_score(y_test, y_pred_knn, average='weighted'))\n",
        "print(\"KNN F1-Score:\", f1_score(y_test, y_pred_knn, average='weighted'))\n",
        "\n",
        "#  Gaussian Naive Bayes\n",
        "gnb = GaussianNB()\n",
        "gnb.fit(X_train, y_train)\n",
        "y_pred_gnb = gnb.predict(X_test)\n",
        "print(\"Gaussian Naive Bayes Accuracy:\", accuracy_score(y_test, y_pred_gnb))\n",
        "print(\"Gaussian Naive Bayes Precision:\", precision_score(y_test, y_pred_gnb, average='weighted'))\n",
        "print(\"Gaussian Naive Bayes Recall:\", recall_score(y_test, y_pred_gnb, average='weighted'))\n",
        "print(\"Gaussian Naive Bayes F1-Score:\", f1_score(y_test, y_pred_gnb, average='weighted'))\n",
        "\n",
        "#  Decision Tree\n",
        "dtc = DecisionTreeClassifier()\n",
        "dtc.fit(X_train, y_train)\n",
        "y_pred_dtc = dtc.predict(X_test)\n",
        "print(\"Decision Tree Accuracy:\", accuracy_score(y_test, y_pred_dtc))\n",
        "print(\"Decision Tree Precision:\", precision_score(y_test, y_pred_dtc, average='weighted'))\n",
        "print(\"Decision Tree Recall:\", recall_score(y_test, y_pred_dtc, average='weighted'))\n",
        "print(\"Decision Tree F1-Score:\", f1_score(y_test, y_pred_dtc, average='weighted'))\n",
        "\n",
        "# (d) Random Forest\n",
        "rfc = RandomForestClassifier()\n",
        "rfc.fit(X_train, y_train)\n",
        "y_pred_rfc = rfc.predict(X_test)\n",
        "print(\"Random Forest Accuracy:\", accuracy_score(y_test, y_pred_rfc))\n",
        "print(\"Random Forest Precision:\", precision_score(y_test, y_pred_rfc, average='weighted'))\n",
        "print(\"Random Forest Recall:\", recall_score(y_test, y_pred_rfc, average='weighted'))\n",
        "print(\"Random Forest F1-Score:\", f1_score(y_test, y_pred_rfc, average='weighted'))\n",
        "\n",
        "#  Support Vector Machine (SVM)\n",
        "svc = SVC()\n",
        "svc.fit(X_train, y_train)\n",
        "y_pred_svc = svc.predict(X_test)\n",
        "print(\"SVM Accuracy:\", accuracy_score(y_test, y_pred_svc))\n",
        "print(\"SVM Precision:\", precision_score(y_test, y_pred_svc, average='weighted'))\n",
        "print(\"SVM Recall:\", recall_score(y_test, y_pred_svc, average='weighted'))\n",
        "print(\"SVM F1-Score:\", f1_score(y_test, y_pred_svc, average='weighted'))\n"
      ],
      "metadata": {
        "colab": {
          "base_uri": "https://localhost:8080/"
        },
        "id": "3fC-Jcg_oZHb",
        "outputId": "35085608-70e4-485f-ac10-3e99c8f1b82b"
      },
      "execution_count": null,
      "outputs": [
        {
          "output_type": "stream",
          "name": "stdout",
          "text": [
            "KNN Accuracy: 1.0\n",
            "KNN Precision: 1.0\n",
            "KNN Recall: 1.0\n",
            "KNN F1-Score: 1.0\n",
            "Gaussian Naive Bayes Accuracy: 1.0\n",
            "Gaussian Naive Bayes Precision: 1.0\n",
            "Gaussian Naive Bayes Recall: 1.0\n",
            "Gaussian Naive Bayes F1-Score: 1.0\n",
            "Decision Tree Accuracy: 1.0\n",
            "Decision Tree Precision: 1.0\n",
            "Decision Tree Recall: 1.0\n",
            "Decision Tree F1-Score: 1.0\n",
            "Random Forest Accuracy: 1.0\n",
            "Random Forest Precision: 1.0\n",
            "Random Forest Recall: 1.0\n",
            "Random Forest F1-Score: 1.0\n",
            "SVM Accuracy: 1.0\n",
            "SVM Precision: 1.0\n",
            "SVM Recall: 1.0\n",
            "SVM F1-Score: 1.0\n"
          ]
        }
      ]
    },
    {
      "cell_type": "code",
      "source": [
        "\n",
        "\n",
        "from sklearn.metrics import confusion_matrix\n",
        "import pandas as pd\n",
        "\n",
        "print(\"\\nKNN Predicted Labels:\")\n",
        "print(y_pred_knn)\n",
        "print(\"Actual Labels:\")\n",
        "print(y_test.values)\n",
        "\n",
        "print(\"\\nGaussian Naive Bayes Predicted Labels:\")\n",
        "print(y_pred_gnb)\n",
        "print(\"Actual Labels:\")\n",
        "print(y_test.values)\n",
        "\n",
        "print(\"\\nDecision Tree Predicted Labels:\")\n",
        "print(y_pred_dtc)\n",
        "print(\"Actual Labels:\")\n",
        "pr'int(y_test.values)\n",
        "\n",
        "print(\"\\nRandom Forest Predicted Labels:\")\n",
        "print(y_pred_rfc)\n",
        "print(\"Actual Labels:\")\n",
        "print(y_test.values)\n",
        "\n",
        "print(\"\\nSVM Predicted Labels:\")\n",
        "print(y_pred_svc)\n",
        "print(\"Actual Labels:\")\n",
        "print(y_test.values)\n",
        "print(\"\\nKNN Confusion Matrix:\")\n",
        "cm_knn = confusion_matrix(y_test, y_pred_knn)\n",
        "print(pd.DataFrame(cm_knn, index=knn.classes_, columns=knn.classes_))\n",
        "\n",
        "print(\"\\nGaussian Naive Bayes Confusion Matrix:\")\n",
        "cm_gnb = confusion_matrix(y_test, y_pred_gnb)\n",
        "print(pd.DataFrame(cm_gnb, index=gnb.classes_, columns=gnb.classes_))\n",
        "\n",
        "print(\"\\nDecision Tree Confusion Matrix:\")\n",
        "cm_dtc = confusion_matrix(y_test, y_pred_dtc)\n",
        "print(pd.DataFrame(cm_dtc, index=dtc.classes_, columns=dtc.classes_))\n",
        "\n",
        "print(\"\\nRandom Forest Confusion Matrix:\")\n",
        "cm_rfc = confusion_matrix(y_test, y_pred_rfc)\n",
        "print(pd.DataFrame(cm_rfc, index=rfc.classes_, columns=rfc.classes_))\n",
        "\n",
        "print(\"\\nSVM Confusion Matrix:\")\n",
        "cm_svc = confusion_matrix(y_test, y_pred_svc)\n",
        "print(pd.DataFrame(cm_svc, index=svc.classes_, columns=svc.classes_))\n"
      ],
      "metadata": {
        "colab": {
          "base_uri": "https://localhost:8080/"
        },
        "id": "9eBCnPS6vkBg",
        "outputId": "d97adb62-2e10-4cf0-e591-064c01216d2b"
      },
      "execution_count": null,
      "outputs": [
        {
          "output_type": "stream",
          "name": "stdout",
          "text": [
            "\n",
            "KNN Predicted Labels:\n",
            "['versicolor' 'setosa' 'virginica' 'versicolor' 'versicolor' 'setosa'\n",
            " 'versicolor' 'virginica' 'versicolor' 'versicolor' 'virginica' 'setosa'\n",
            " 'setosa' 'setosa' 'setosa' 'versicolor' 'virginica' 'versicolor'\n",
            " 'versicolor' 'virginica' 'setosa' 'virginica' 'setosa' 'virginica'\n",
            " 'virginica' 'virginica' 'virginica' 'virginica' 'setosa' 'setosa']\n",
            "Actual Labels:\n",
            "['versicolor' 'setosa' 'virginica' 'versicolor' 'versicolor' 'setosa'\n",
            " 'versicolor' 'virginica' 'versicolor' 'versicolor' 'virginica' 'setosa'\n",
            " 'setosa' 'setosa' 'setosa' 'versicolor' 'virginica' 'versicolor'\n",
            " 'versicolor' 'virginica' 'setosa' 'virginica' 'setosa' 'virginica'\n",
            " 'virginica' 'virginica' 'virginica' 'virginica' 'setosa' 'setosa']\n",
            "\n",
            "Gaussian Naive Bayes Predicted Labels:\n",
            "['versicolor' 'setosa' 'virginica' 'versicolor' 'versicolor' 'setosa'\n",
            " 'versicolor' 'virginica' 'versicolor' 'versicolor' 'virginica' 'setosa'\n",
            " 'setosa' 'setosa' 'setosa' 'versicolor' 'virginica' 'versicolor'\n",
            " 'versicolor' 'virginica' 'setosa' 'virginica' 'setosa' 'virginica'\n",
            " 'virginica' 'virginica' 'virginica' 'virginica' 'setosa' 'setosa']\n",
            "Actual Labels:\n",
            "['versicolor' 'setosa' 'virginica' 'versicolor' 'versicolor' 'setosa'\n",
            " 'versicolor' 'virginica' 'versicolor' 'versicolor' 'virginica' 'setosa'\n",
            " 'setosa' 'setosa' 'setosa' 'versicolor' 'virginica' 'versicolor'\n",
            " 'versicolor' 'virginica' 'setosa' 'virginica' 'setosa' 'virginica'\n",
            " 'virginica' 'virginica' 'virginica' 'virginica' 'setosa' 'setosa']\n",
            "\n",
            "Decision Tree Predicted Labels:\n",
            "['versicolor' 'setosa' 'virginica' 'versicolor' 'versicolor' 'setosa'\n",
            " 'versicolor' 'virginica' 'versicolor' 'versicolor' 'virginica' 'setosa'\n",
            " 'setosa' 'setosa' 'setosa' 'versicolor' 'virginica' 'versicolor'\n",
            " 'versicolor' 'virginica' 'setosa' 'virginica' 'setosa' 'virginica'\n",
            " 'virginica' 'virginica' 'virginica' 'virginica' 'setosa' 'setosa']\n",
            "Actual Labels:\n",
            "['versicolor' 'setosa' 'virginica' 'versicolor' 'versicolor' 'setosa'\n",
            " 'versicolor' 'virginica' 'versicolor' 'versicolor' 'virginica' 'setosa'\n",
            " 'setosa' 'setosa' 'setosa' 'versicolor' 'virginica' 'versicolor'\n",
            " 'versicolor' 'virginica' 'setosa' 'virginica' 'setosa' 'virginica'\n",
            " 'virginica' 'virginica' 'virginica' 'virginica' 'setosa' 'setosa']\n",
            "\n",
            "Random Forest Predicted Labels:\n",
            "['versicolor' 'setosa' 'virginica' 'versicolor' 'versicolor' 'setosa'\n",
            " 'versicolor' 'virginica' 'versicolor' 'versicolor' 'virginica' 'setosa'\n",
            " 'setosa' 'setosa' 'setosa' 'versicolor' 'virginica' 'versicolor'\n",
            " 'versicolor' 'virginica' 'setosa' 'virginica' 'setosa' 'virginica'\n",
            " 'virginica' 'virginica' 'virginica' 'virginica' 'setosa' 'setosa']\n",
            "Actual Labels:\n",
            "['versicolor' 'setosa' 'virginica' 'versicolor' 'versicolor' 'setosa'\n",
            " 'versicolor' 'virginica' 'versicolor' 'versicolor' 'virginica' 'setosa'\n",
            " 'setosa' 'setosa' 'setosa' 'versicolor' 'virginica' 'versicolor'\n",
            " 'versicolor' 'virginica' 'setosa' 'virginica' 'setosa' 'virginica'\n",
            " 'virginica' 'virginica' 'virginica' 'virginica' 'setosa' 'setosa']\n",
            "\n",
            "SVM Predicted Labels:\n",
            "['versicolor' 'setosa' 'virginica' 'versicolor' 'versicolor' 'setosa'\n",
            " 'versicolor' 'virginica' 'versicolor' 'versicolor' 'virginica' 'setosa'\n",
            " 'setosa' 'setosa' 'setosa' 'versicolor' 'virginica' 'versicolor'\n",
            " 'versicolor' 'virginica' 'setosa' 'virginica' 'setosa' 'virginica'\n",
            " 'virginica' 'virginica' 'virginica' 'virginica' 'setosa' 'setosa']\n",
            "Actual Labels:\n",
            "['versicolor' 'setosa' 'virginica' 'versicolor' 'versicolor' 'setosa'\n",
            " 'versicolor' 'virginica' 'versicolor' 'versicolor' 'virginica' 'setosa'\n",
            " 'setosa' 'setosa' 'setosa' 'versicolor' 'virginica' 'versicolor'\n",
            " 'versicolor' 'virginica' 'setosa' 'virginica' 'setosa' 'virginica'\n",
            " 'virginica' 'virginica' 'virginica' 'virginica' 'setosa' 'setosa']\n",
            "\n",
            "KNN Confusion Matrix:\n",
            "            setosa  versicolor  virginica\n",
            "setosa          10           0          0\n",
            "versicolor       0           9          0\n",
            "virginica        0           0         11\n",
            "\n",
            "Gaussian Naive Bayes Confusion Matrix:\n",
            "            setosa  versicolor  virginica\n",
            "setosa          10           0          0\n",
            "versicolor       0           9          0\n",
            "virginica        0           0         11\n",
            "\n",
            "Decision Tree Confusion Matrix:\n",
            "            setosa  versicolor  virginica\n",
            "setosa          10           0          0\n",
            "versicolor       0           9          0\n",
            "virginica        0           0         11\n",
            "\n",
            "Random Forest Confusion Matrix:\n",
            "            setosa  versicolor  virginica\n",
            "setosa          10           0          0\n",
            "versicolor       0           9          0\n",
            "virginica        0           0         11\n",
            "\n",
            "SVM Confusion Matrix:\n",
            "            setosa  versicolor  virginica\n",
            "setosa          10           0          0\n",
            "versicolor       0           9          0\n",
            "virginica        0           0         11\n"
          ]
        }
      ]
    },
    {
      "cell_type": "code",
      "source": [
        "\n",
        "\n",
        "from sklearn.datasets import load_wine\n",
        "import pandas as pd\n",
        "\n",
        "wine = load_wine()\n",
        "wine_df = pd.DataFrame(data=wine.data, columns=wine.feature_names)\n",
        "wine_df['target'] = wine.target\n"
      ],
      "metadata": {
        "id": "0nASuDCRzwkx"
      },
      "execution_count": null,
      "outputs": []
    },
    {
      "cell_type": "code",
      "source": [
        "print(wine_df.iasnull().sum)\n",
        "\n"
      ],
      "metadata": {
        "colab": {
          "base_uri": "https://localhost:8080/"
        },
        "id": "HH9YSZSM0aCb",
        "outputId": "9e4fc04d-e4d5-428a-8d8c-dc1b3e8103c8"
      },
      "execution_count": null,
      "outputs": [
        {
          "output_type": "stream",
          "name": "stdout",
          "text": [
            "alcohol                         0\n",
            "malic_acid                      0\n",
            "ash                             0\n",
            "alcalinity_of_ash               0\n",
            "magnesium                       0\n",
            "total_phenols                   0\n",
            "flavanoids                      0\n",
            "nonflavanoid_phenols            0\n",
            "proanthocyanins                 0\n",
            "color_intensity                 0\n",
            "hue                             0\n",
            "od280/od315_of_diluted_wines    0\n",
            "proline                         0\n",
            "target                          0\n",
            "dtype: int64\n"
          ]
        }
      ]
    },
    {
      "cell_type": "code",
      "source": [
        "\n",
        "from sklearn.cluster import KMeans\n",
        "\n",
        "n_clusters = wine_df['target'].nunique()\n",
        "X_wine = wine_df.drop('target', axis=1)\n",
        "kmeans = KMeans(n_clusters=n_clusters, random_state=42)\n",
        "kmeans.fit(X_wine)\n",
        "cluster_labels = kmeans.labels_\n",
        "wine_df['cluster'] = cluster_labels\n"
      ],
      "metadata": {
        "colab": {
          "base_uri": "https://localhost:8080/"
        },
        "id": "Bvkuvd6V0lZ5",
        "outputId": "45268f68-7ffe-4f6a-c012-b6f0640ff5da"
      },
      "execution_count": null,
      "outputs": [
        {
          "output_type": "stream",
          "name": "stderr",
          "text": [
            "/usr/local/lib/python3.10/dist-packages/sklearn/cluster/_kmeans.py:1416: FutureWarning: The default value of `n_init` will change from 10 to 'auto' in 1.4. Set the value of `n_init` explicitly to suppress the warning\n",
            "  super()._check_params_vs_input(X, default_n_init=10)\n"
          ]
        }
      ]
    },
    {
      "cell_type": "code",
      "source": [
        "\n",
        "\n",
        "print(wine_df['cluster'])\n"
      ],
      "metadata": {
        "colab": {
          "base_uri": "https://localhost:8080/"
        },
        "id": "o_c_gr3X8rBz",
        "outputId": "82235cb1-1f2d-4e66-9e13-697044f005bf"
      },
      "execution_count": null,
      "outputs": [
        {
          "output_type": "stream",
          "name": "stdout",
          "text": [
            "0      1\n",
            "1      1\n",
            "2      1\n",
            "3      1\n",
            "4      0\n",
            "      ..\n",
            "173    0\n",
            "174    0\n",
            "175    0\n",
            "176    0\n",
            "177    2\n",
            "Name: cluster, Length: 178, dtype: int32\n"
          ]
        }
      ]
    },
    {
      "cell_type": "code",
      "source": [
        "\n",
        "\n",
        "from sklearn.metrics import accuracy_score\n",
        "\n",
        "\n",
        "accuracy = accuracy_score(wine_df['target'], wine_df['cluster'])\n",
        "print(\"Clustering Accuracy:\", accuracy)\n"
      ],
      "metadata": {
        "colab": {
          "base_uri": "https://localhost:8080/"
        },
        "id": "eiY_UvHM89rp",
        "outputId": "83e02ce5-8ee5-4cec-dfde-8d54074f5cb6"
      },
      "execution_count": null,
      "outputs": [
        {
          "output_type": "stream",
          "name": "stdout",
          "text": [
            "Clustering Accuracy: 0.1853932584269663\n"
          ]
        }
      ]
    },
    {
      "cell_type": "code",
      "source": [
        "\n",
        "\n",
        "import matplotlib.pyplot as plt\n",
        "features = ['alcohol', 'malic_acid']\n",
        "\n",
        "\n",
        "plt.figure(figsize=(8, 6))\n",
        "for cluster in wine_df['cluster'].unique():\n",
        "  cluster_data = wine_df[wine_df['cluster'] == cluster]\n",
        "  plt.scatter(cluster_data[features[0]], cluster_data[features[1]], label=f'Cluster {cluster}')\n",
        "\n",
        "plt.xlabel(features[0])\n",
        "plt.ylabel(features[1])\n",
        "plt.title('K-Means Clustering of Wine Dataset')\n",
        "plt.legend()\n",
        "plt.show()\n"
      ],
      "metadata": {
        "colab": {
          "base_uri": "https://localhost:8080/",
          "height": 564
        },
        "id": "QDn-lruO9iw6",
        "outputId": "1c05f8a2-8fe6-4bf7-d716-08bf6f599e06"
      },
      "execution_count": null,
      "outputs": [
        {
          "output_type": "display_data",
          "data": {
            "text/plain": [
              "<Figure size 800x600 with 1 Axes>"
            ],
            "image/png": "[encoded data removed]"
          },
          "metadata": {}
        }
      ]
    },
    {
      "cell_type": "code",
      "source": [
        "\n",
        "\n",
        "from sklearn.datasets import fetch_california_housing\n",
        "import pandas as pd\n",
        "california_housing = fetch_california_housing()\n",
        "california_df = pd.DataFrame(data=california_housing.data, columns=california_housing.feature_names)\n",
        "california_df['target'] = california_housing.target\n"
      ],
      "metadata": {
        "id": "tGCBH9YH_YnK"
      },
      "execution_count": null,
      "outputs": []
    },
    {
      "cell_type": "code",
      "source": [
        "\n",
        "print(california_df.isnull().sum())\n",
        "\n"
      ],
      "metadata": {
        "colab": {
          "base_uri": "https://localhost:8080/"
        },
        "id": "9N65sWj5AWf8",
        "outputId": "be5828f6-fb49-42a9-cfe6-ab4aefed8586"
      },
      "execution_count": null,
      "outputs": [
        {
          "output_type": "stream",
          "name": "stdout",
          "text": [
            "MedInc        0\n",
            "HouseAge      0\n",
            "AveRooms      0\n",
            "AveBedrms     0\n",
            "Population    0\n",
            "AveOccup      0\n",
            "Latitude      0\n",
            "Longitude     0\n",
            "target        0\n",
            "dtype: int64\n"
          ]
        }
      ]
    },
    {
      "cell_type": "code",
      "source": [
        "\n",
        "X_cal = california_df.drop('target', axis=1)\n",
        "y_cal = california_df['target']\n",
        "X_train_cal, X_test_cal, y_train_cal, y_test_cal = train_test_split(X_cal, y_cal, test_size=0.2, random_state=42)\n"
      ],
      "metadata": {
        "id": "-PZtuiq9AsmY"
      },
      "execution_count": null,
      "outputs": []
    },
    {
      "cell_type": "code",
      "source": [
        "\n",
        "\n",
        "from sklearn.linear_model import LinearRegression\n",
        "from sklearn.metrics import mean_squared_error, r2_score\n",
        "\n",
        "linear_reg = LinearRegression()\n",
        "linear_reg.fit(X_train_cal, y_train_cal)\n",
        "\n",
        "\n",
        "y_pred_cal = linear_reg.predict(X_test_cal)\n",
        "mse = mean_squared_error(y_test_cal, y_pred_cal)\n",
        "r2 = r2_score(y_test_cal, y_pred_cal)\n",
        "\n",
        "print(\"Mean Squared Error:\", mse)\n",
        "print(\"R-squared:\", r2)\n"
      ],
      "metadata": {
        "colab": {
          "base_uri": "https://localhost:8080/"
        },
        "id": "6Zk-ywGwBS0o",
        "outputId": "6f55951a-71a0-4db2-fa9c-3fcdded85ea5"
      },
      "execution_count": null,
      "outputs": [
        {
          "output_type": "stream",
          "name": "stdout",
          "text": [
            "Mean Squared Error: 0.5558915986952444\n",
            "R-squared: 0.5757877060324508\n"
          ]
        }
      ]
    },
    {
      "cell_type": "code",
      "source": [
        "\n",
        "y_pred_cal = linear_reg.predict(X_test_cal)\n",
        "\n",
        "\n",
        "mse = mean_squared_error(y_test_cal, y_pred_cal)\n",
        "r2 = r2_score(y_test_cal, y_pred_cal)\n",
        "\n",
        "print(\"Mean Squared Error:\", mse)\n",
        "print(\"R-squared:\", r2)\n"
      ],
      "metadata": {
        "colab": {
          "base_uri": "https://localhost:8080/"
        },
        "id": "QbgNfEeQDWDQ",
        "outputId": "7d6eab67-f309-45c6-d2fd-abc50cbffa5d"
      },
      "execution_count": null,
      "outputs": [
        {
          "output_type": "stream",
          "name": "stdout",
          "text": [
            "Mean Squared Error: 0.5558915986952444\n",
            "R-squared: 0.5757877060324508\n"
          ]
        }
      ]
    },
    {
      "cell_type": "code",
      "source": [
        "\n",
        "print(\"Coefficients:\", linear_reg.coef_)\n"
      ],
      "metadata": {
        "colab": {
          "base_uri": "https://localhost:8080/"
        },
        "id": "v2Z9qFwHDhhL",
        "outputId": "0ec176ff-af9d-4dca-be40-cc8d94cfb7ad"
      },
      "execution_count": null,
      "outputs": [
        {
          "output_type": "stream",
          "name": "stdout",
          "text": [
            "Coefficients: [ 4.48674910e-01  9.72425752e-03 -1.23323343e-01  7.83144907e-01\n",
            " -2.02962058e-06 -3.52631849e-03 -4.19792487e-01 -4.33708065e-01]\n"
          ]
        }
      ]
    }
  ]
}